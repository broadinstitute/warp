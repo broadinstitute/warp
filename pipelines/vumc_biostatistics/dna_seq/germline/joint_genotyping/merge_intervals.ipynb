{
 "cells": [
  {
   "cell_type": "code",
   "execution_count": 6,
   "metadata": {},
   "outputs": [],
   "source": [
    "import pandas as pd\n",
    "import os"
   ]
  },
  {
   "cell_type": "code",
   "execution_count": 4,
   "metadata": {},
   "outputs": [
    {
     "name": "stdout",
     "output_type": "stream",
     "text": [
      "/panfs/accrepfs.vampire/nobackup/h_cqs/shengq2/biovu/gvs/intervals\n"
     ]
    }
   ],
   "source": [
    "%cd /nobackup/h_cqs/shengq2/biovu/gvs/intervals"
   ]
  },
  {
   "cell_type": "code",
   "execution_count": 32,
   "metadata": {},
   "outputs": [
    {
     "name": "stdout",
     "output_type": "stream",
     "text": [
      "['0000000000-gvs-beta-10NRQ.vcf.gz.interval_list', '0000000001-gvs-beta-10NRQ.vcf.gz.interval_list', '0000000002-gvs-beta-10NRQ.vcf.gz.interval_list', '0000000003-gvs-beta-10NRQ.vcf.gz.interval_list', '0000000004-gvs-beta-10NRQ.vcf.gz.interval_list', '0000000005-gvs-beta-10NRQ.vcf.gz.interval_list', '0000000006-gvs-beta-10NRQ.vcf.gz.interval_list', '0000000007-gvs-beta-10NRQ.vcf.gz.interval_list', '0000000008-gvs-beta-10NRQ.vcf.gz.interval_list', '0000000009-gvs-beta-10NRQ.vcf.gz.interval_list', '0000000010-gvs-beta-10NRQ.vcf.gz.interval_list', '0000000011-gvs-beta-10NRQ.vcf.gz.interval_list', '0000000012-gvs-beta-10NRQ.vcf.gz.interval_list', '0000000013-gvs-beta-10NRQ.vcf.gz.interval_list', '0000000014-gvs-beta-10NRQ.vcf.gz.interval_list', '0000000015-gvs-beta-10NRQ.vcf.gz.interval_list', '0000000016-gvs-beta-10NRQ.vcf.gz.interval_list', '0000000017-gvs-beta-10NRQ.vcf.gz.interval_list', '0000000018-gvs-beta-10NRQ.vcf.gz.interval_list', '0000000019-gvs-beta-10NRQ.vcf.gz.interval_list', '0000000020-gvs-beta-10NRQ.vcf.gz.interval_list', '0000000021-gvs-beta-10NRQ.vcf.gz.interval_list', '0000000023-gvs-beta-10NRQ.vcf.gz.interval_list', '0000000022-gvs-beta-10NRQ.vcf.gz.interval_list', '0000000024-gvs-beta-10NRQ.vcf.gz.interval_list', '0000000025-gvs-beta-10NRQ.vcf.gz.interval_list', '0000000027-gvs-beta-10NRQ.vcf.gz.interval_list', '0000000028-gvs-beta-10NRQ.vcf.gz.interval_list', '0000000026-gvs-beta-10NRQ.vcf.gz.interval_list', '0000000030-gvs-beta-10NRQ.vcf.gz.interval_list', '0000000032-gvs-beta-10NRQ.vcf.gz.interval_list', '0000000031-gvs-beta-10NRQ.vcf.gz.interval_list', '0000000033-gvs-beta-10NRQ.vcf.gz.interval_list', '0000000034-gvs-beta-10NRQ.vcf.gz.interval_list', '0000000029-gvs-beta-10NRQ.vcf.gz.interval_list', '0000000035-gvs-beta-10NRQ.vcf.gz.interval_list', '0000000037-gvs-beta-10NRQ.vcf.gz.interval_list', '0000000040-gvs-beta-10NRQ.vcf.gz.interval_list', '0000000038-gvs-beta-10NRQ.vcf.gz.interval_list', '0000000039-gvs-beta-10NRQ.vcf.gz.interval_list', '0000000042-gvs-beta-10NRQ.vcf.gz.interval_list', '0000000043-gvs-beta-10NRQ.vcf.gz.interval_list', '0000000041-gvs-beta-10NRQ.vcf.gz.interval_list', '0000000090-gvs-beta-10NRQ.vcf.gz.interval_list', '0000000047-gvs-beta-10NRQ.vcf.gz.interval_list', '0000000045-gvs-beta-10NRQ.vcf.gz.interval_list', '0000000044-gvs-beta-10NRQ.vcf.gz.interval_list', '0000000036-gvs-beta-10NRQ.vcf.gz.interval_list', '0000000046-gvs-beta-10NRQ.vcf.gz.interval_list', '0000000048-gvs-beta-10NRQ.vcf.gz.interval_list', '0000000053-gvs-beta-10NRQ.vcf.gz.interval_list', '0000000055-gvs-beta-10NRQ.vcf.gz.interval_list', '0000000052-gvs-beta-10NRQ.vcf.gz.interval_list', '0000000105-gvs-beta-10NRQ.vcf.gz.interval_list', '0000000051-gvs-beta-10NRQ.vcf.gz.interval_list', '0000000050-gvs-beta-10NRQ.vcf.gz.interval_list', '0000000054-gvs-beta-10NRQ.vcf.gz.interval_list', '0000000049-gvs-beta-10NRQ.vcf.gz.interval_list', '0000000057-gvs-beta-10NRQ.vcf.gz.interval_list', '0000000063-gvs-beta-10NRQ.vcf.gz.interval_list', '0000000060-gvs-beta-10NRQ.vcf.gz.interval_list', '0000000064-gvs-beta-10NRQ.vcf.gz.interval_list', '0000000065-gvs-beta-10NRQ.vcf.gz.interval_list', '0000000075-gvs-beta-10NRQ.vcf.gz.interval_list', '0000000069-gvs-beta-10NRQ.vcf.gz.interval_list', '0000000078-gvs-beta-10NRQ.vcf.gz.interval_list', '0000000077-gvs-beta-10NRQ.vcf.gz.interval_list', '0000000073-gvs-beta-10NRQ.vcf.gz.interval_list', '0000000071-gvs-beta-10NRQ.vcf.gz.interval_list', '0000000098-gvs-beta-10NRQ.vcf.gz.interval_list', '0000000089-gvs-beta-10NRQ.vcf.gz.interval_list', '0000000103-gvs-beta-10NRQ.vcf.gz.interval_list', '0000000056-gvs-beta-10NRQ.vcf.gz.interval_list', '0000000091-gvs-beta-10NRQ.vcf.gz.interval_list', '0000000092-gvs-beta-10NRQ.vcf.gz.interval_list', '0000000061-gvs-beta-10NRQ.vcf.gz.interval_list', '0000000058-gvs-beta-10NRQ.vcf.gz.interval_list', '0000000059-gvs-beta-10NRQ.vcf.gz.interval_list', '0000000062-gvs-beta-10NRQ.vcf.gz.interval_list', '0000000094-gvs-beta-10NRQ.vcf.gz.interval_list', '0000000080-gvs-beta-10NRQ.vcf.gz.interval_list', '0000000067-gvs-beta-10NRQ.vcf.gz.interval_list', '0000000066-gvs-beta-10NRQ.vcf.gz.interval_list', '0000000076-gvs-beta-10NRQ.vcf.gz.interval_list', '0000000068-gvs-beta-10NRQ.vcf.gz.interval_list', '0000000070-gvs-beta-10NRQ.vcf.gz.interval_list', '0000000072-gvs-beta-10NRQ.vcf.gz.interval_list', '0000000074-gvs-beta-10NRQ.vcf.gz.interval_list', '0000000087-gvs-beta-10NRQ.vcf.gz.interval_list', '0000000085-gvs-beta-10NRQ.vcf.gz.interval_list', '0000000081-gvs-beta-10NRQ.vcf.gz.interval_list', '0000000086-gvs-beta-10NRQ.vcf.gz.interval_list', '0000000107-gvs-beta-10NRQ.vcf.gz.interval_list', '0000000108-gvs-beta-10NRQ.vcf.gz.interval_list', '0000000111-gvs-beta-10NRQ.vcf.gz.interval_list', '0000000102-gvs-beta-10NRQ.vcf.gz.interval_list', '0000000088-gvs-beta-10NRQ.vcf.gz.interval_list', '0000000093-gvs-beta-10NRQ.vcf.gz.interval_list', '0000000095-gvs-beta-10NRQ.vcf.gz.interval_list', '0000000096-gvs-beta-10NRQ.vcf.gz.interval_list', '0000000097-gvs-beta-10NRQ.vcf.gz.interval_list', '0000000099-gvs-beta-10NRQ.vcf.gz.interval_list', '0000000079-gvs-beta-10NRQ.vcf.gz.interval_list', '0000000082-gvs-beta-10NRQ.vcf.gz.interval_list', '0000000084-gvs-beta-10NRQ.vcf.gz.interval_list', '0000000083-gvs-beta-10NRQ.vcf.gz.interval_list', '0000000106-gvs-beta-10NRQ.vcf.gz.interval_list', '0000000109-gvs-beta-10NRQ.vcf.gz.interval_list', '0000000110-gvs-beta-10NRQ.vcf.gz.interval_list', '0000000100-gvs-beta-10NRQ.vcf.gz.interval_list', '0000000101-gvs-beta-10NRQ.vcf.gz.interval_list', '0000000104-gvs-beta-10NRQ.vcf.gz.interval_list']\n",
      "['/nobackup/h_cqs/shengq2/biovu/gvs/vcf/0000000000-gvs-beta-10NRQ.vcf.gz', '/nobackup/h_cqs/shengq2/biovu/gvs/vcf/0000000001-gvs-beta-10NRQ.vcf.gz', '/nobackup/h_cqs/shengq2/biovu/gvs/vcf/0000000002-gvs-beta-10NRQ.vcf.gz', '/nobackup/h_cqs/shengq2/biovu/gvs/vcf/0000000003-gvs-beta-10NRQ.vcf.gz', '/nobackup/h_cqs/shengq2/biovu/gvs/vcf/0000000004-gvs-beta-10NRQ.vcf.gz', '/nobackup/h_cqs/shengq2/biovu/gvs/vcf/0000000005-gvs-beta-10NRQ.vcf.gz', '/nobackup/h_cqs/shengq2/biovu/gvs/vcf/0000000006-gvs-beta-10NRQ.vcf.gz', '/nobackup/h_cqs/shengq2/biovu/gvs/vcf/0000000007-gvs-beta-10NRQ.vcf.gz', '/nobackup/h_cqs/shengq2/biovu/gvs/vcf/0000000008-gvs-beta-10NRQ.vcf.gz', '/nobackup/h_cqs/shengq2/biovu/gvs/vcf/0000000009-gvs-beta-10NRQ.vcf.gz', '/nobackup/h_cqs/shengq2/biovu/gvs/vcf/0000000010-gvs-beta-10NRQ.vcf.gz', '/nobackup/h_cqs/shengq2/biovu/gvs/vcf/0000000011-gvs-beta-10NRQ.vcf.gz', '/nobackup/h_cqs/shengq2/biovu/gvs/vcf/0000000012-gvs-beta-10NRQ.vcf.gz', '/nobackup/h_cqs/shengq2/biovu/gvs/vcf/0000000013-gvs-beta-10NRQ.vcf.gz', '/nobackup/h_cqs/shengq2/biovu/gvs/vcf/0000000014-gvs-beta-10NRQ.vcf.gz', '/nobackup/h_cqs/shengq2/biovu/gvs/vcf/0000000015-gvs-beta-10NRQ.vcf.gz', '/nobackup/h_cqs/shengq2/biovu/gvs/vcf/0000000016-gvs-beta-10NRQ.vcf.gz', '/nobackup/h_cqs/shengq2/biovu/gvs/vcf/0000000017-gvs-beta-10NRQ.vcf.gz', '/nobackup/h_cqs/shengq2/biovu/gvs/vcf/0000000018-gvs-beta-10NRQ.vcf.gz', '/nobackup/h_cqs/shengq2/biovu/gvs/vcf/0000000019-gvs-beta-10NRQ.vcf.gz', '/nobackup/h_cqs/shengq2/biovu/gvs/vcf/0000000020-gvs-beta-10NRQ.vcf.gz', '/nobackup/h_cqs/shengq2/biovu/gvs/vcf/0000000021-gvs-beta-10NRQ.vcf.gz', '/nobackup/h_cqs/shengq2/biovu/gvs/vcf/0000000023-gvs-beta-10NRQ.vcf.gz', '/nobackup/h_cqs/shengq2/biovu/gvs/vcf/0000000022-gvs-beta-10NRQ.vcf.gz', '/nobackup/h_cqs/shengq2/biovu/gvs/vcf/0000000024-gvs-beta-10NRQ.vcf.gz', '/nobackup/h_cqs/shengq2/biovu/gvs/vcf/0000000025-gvs-beta-10NRQ.vcf.gz', '/nobackup/h_cqs/shengq2/biovu/gvs/vcf/0000000027-gvs-beta-10NRQ.vcf.gz', '/nobackup/h_cqs/shengq2/biovu/gvs/vcf/0000000028-gvs-beta-10NRQ.vcf.gz', '/nobackup/h_cqs/shengq2/biovu/gvs/vcf/0000000026-gvs-beta-10NRQ.vcf.gz', '/nobackup/h_cqs/shengq2/biovu/gvs/vcf/0000000030-gvs-beta-10NRQ.vcf.gz', '/nobackup/h_cqs/shengq2/biovu/gvs/vcf/0000000032-gvs-beta-10NRQ.vcf.gz', '/nobackup/h_cqs/shengq2/biovu/gvs/vcf/0000000031-gvs-beta-10NRQ.vcf.gz', '/nobackup/h_cqs/shengq2/biovu/gvs/vcf/0000000033-gvs-beta-10NRQ.vcf.gz', '/nobackup/h_cqs/shengq2/biovu/gvs/vcf/0000000034-gvs-beta-10NRQ.vcf.gz', '/nobackup/h_cqs/shengq2/biovu/gvs/vcf/0000000029-gvs-beta-10NRQ.vcf.gz', '/nobackup/h_cqs/shengq2/biovu/gvs/vcf/0000000035-gvs-beta-10NRQ.vcf.gz', '/nobackup/h_cqs/shengq2/biovu/gvs/vcf/0000000037-gvs-beta-10NRQ.vcf.gz', '/nobackup/h_cqs/shengq2/biovu/gvs/vcf/0000000040-gvs-beta-10NRQ.vcf.gz', '/nobackup/h_cqs/shengq2/biovu/gvs/vcf/0000000038-gvs-beta-10NRQ.vcf.gz', '/nobackup/h_cqs/shengq2/biovu/gvs/vcf/0000000039-gvs-beta-10NRQ.vcf.gz', '/nobackup/h_cqs/shengq2/biovu/gvs/vcf/0000000042-gvs-beta-10NRQ.vcf.gz', '/nobackup/h_cqs/shengq2/biovu/gvs/vcf/0000000043-gvs-beta-10NRQ.vcf.gz', '/nobackup/h_cqs/shengq2/biovu/gvs/vcf/0000000041-gvs-beta-10NRQ.vcf.gz', '/nobackup/h_cqs/shengq2/biovu/gvs/vcf/0000000090-gvs-beta-10NRQ.vcf.gz', '/nobackup/h_cqs/shengq2/biovu/gvs/vcf/0000000047-gvs-beta-10NRQ.vcf.gz', '/nobackup/h_cqs/shengq2/biovu/gvs/vcf/0000000045-gvs-beta-10NRQ.vcf.gz', '/nobackup/h_cqs/shengq2/biovu/gvs/vcf/0000000044-gvs-beta-10NRQ.vcf.gz', '/nobackup/h_cqs/shengq2/biovu/gvs/vcf/0000000036-gvs-beta-10NRQ.vcf.gz', '/nobackup/h_cqs/shengq2/biovu/gvs/vcf/0000000046-gvs-beta-10NRQ.vcf.gz', '/nobackup/h_cqs/shengq2/biovu/gvs/vcf/0000000048-gvs-beta-10NRQ.vcf.gz', '/nobackup/h_cqs/shengq2/biovu/gvs/vcf/0000000053-gvs-beta-10NRQ.vcf.gz', '/nobackup/h_cqs/shengq2/biovu/gvs/vcf/0000000055-gvs-beta-10NRQ.vcf.gz', '/nobackup/h_cqs/shengq2/biovu/gvs/vcf/0000000052-gvs-beta-10NRQ.vcf.gz', '/nobackup/h_cqs/shengq2/biovu/gvs/vcf/0000000105-gvs-beta-10NRQ.vcf.gz', '/nobackup/h_cqs/shengq2/biovu/gvs/vcf/0000000051-gvs-beta-10NRQ.vcf.gz', '/nobackup/h_cqs/shengq2/biovu/gvs/vcf/0000000050-gvs-beta-10NRQ.vcf.gz', '/nobackup/h_cqs/shengq2/biovu/gvs/vcf/0000000054-gvs-beta-10NRQ.vcf.gz', '/nobackup/h_cqs/shengq2/biovu/gvs/vcf/0000000049-gvs-beta-10NRQ.vcf.gz', '/nobackup/h_cqs/shengq2/biovu/gvs/vcf/0000000057-gvs-beta-10NRQ.vcf.gz', '/nobackup/h_cqs/shengq2/biovu/gvs/vcf/0000000063-gvs-beta-10NRQ.vcf.gz', '/nobackup/h_cqs/shengq2/biovu/gvs/vcf/0000000060-gvs-beta-10NRQ.vcf.gz', '/nobackup/h_cqs/shengq2/biovu/gvs/vcf/0000000064-gvs-beta-10NRQ.vcf.gz', '/nobackup/h_cqs/shengq2/biovu/gvs/vcf/0000000065-gvs-beta-10NRQ.vcf.gz', '/nobackup/h_cqs/shengq2/biovu/gvs/vcf/0000000075-gvs-beta-10NRQ.vcf.gz', '/nobackup/h_cqs/shengq2/biovu/gvs/vcf/0000000069-gvs-beta-10NRQ.vcf.gz', '/nobackup/h_cqs/shengq2/biovu/gvs/vcf/0000000078-gvs-beta-10NRQ.vcf.gz', '/nobackup/h_cqs/shengq2/biovu/gvs/vcf/0000000077-gvs-beta-10NRQ.vcf.gz', '/nobackup/h_cqs/shengq2/biovu/gvs/vcf/0000000073-gvs-beta-10NRQ.vcf.gz', '/nobackup/h_cqs/shengq2/biovu/gvs/vcf/0000000071-gvs-beta-10NRQ.vcf.gz', '/nobackup/h_cqs/shengq2/biovu/gvs/vcf/0000000098-gvs-beta-10NRQ.vcf.gz', '/nobackup/h_cqs/shengq2/biovu/gvs/vcf/0000000089-gvs-beta-10NRQ.vcf.gz', '/nobackup/h_cqs/shengq2/biovu/gvs/vcf/0000000103-gvs-beta-10NRQ.vcf.gz', '/nobackup/h_cqs/shengq2/biovu/gvs/vcf/0000000056-gvs-beta-10NRQ.vcf.gz', '/nobackup/h_cqs/shengq2/biovu/gvs/vcf/0000000091-gvs-beta-10NRQ.vcf.gz', '/nobackup/h_cqs/shengq2/biovu/gvs/vcf/0000000092-gvs-beta-10NRQ.vcf.gz', '/nobackup/h_cqs/shengq2/biovu/gvs/vcf/0000000061-gvs-beta-10NRQ.vcf.gz', '/nobackup/h_cqs/shengq2/biovu/gvs/vcf/0000000058-gvs-beta-10NRQ.vcf.gz', '/nobackup/h_cqs/shengq2/biovu/gvs/vcf/0000000059-gvs-beta-10NRQ.vcf.gz', '/nobackup/h_cqs/shengq2/biovu/gvs/vcf/0000000062-gvs-beta-10NRQ.vcf.gz', '/nobackup/h_cqs/shengq2/biovu/gvs/vcf/0000000094-gvs-beta-10NRQ.vcf.gz', '/nobackup/h_cqs/shengq2/biovu/gvs/vcf/0000000080-gvs-beta-10NRQ.vcf.gz', '/nobackup/h_cqs/shengq2/biovu/gvs/vcf/0000000067-gvs-beta-10NRQ.vcf.gz', '/nobackup/h_cqs/shengq2/biovu/gvs/vcf/0000000066-gvs-beta-10NRQ.vcf.gz', '/nobackup/h_cqs/shengq2/biovu/gvs/vcf/0000000076-gvs-beta-10NRQ.vcf.gz', '/nobackup/h_cqs/shengq2/biovu/gvs/vcf/0000000068-gvs-beta-10NRQ.vcf.gz', '/nobackup/h_cqs/shengq2/biovu/gvs/vcf/0000000070-gvs-beta-10NRQ.vcf.gz', '/nobackup/h_cqs/shengq2/biovu/gvs/vcf/0000000072-gvs-beta-10NRQ.vcf.gz', '/nobackup/h_cqs/shengq2/biovu/gvs/vcf/0000000074-gvs-beta-10NRQ.vcf.gz', '/nobackup/h_cqs/shengq2/biovu/gvs/vcf/0000000087-gvs-beta-10NRQ.vcf.gz', '/nobackup/h_cqs/shengq2/biovu/gvs/vcf/0000000085-gvs-beta-10NRQ.vcf.gz', '/nobackup/h_cqs/shengq2/biovu/gvs/vcf/0000000081-gvs-beta-10NRQ.vcf.gz', '/nobackup/h_cqs/shengq2/biovu/gvs/vcf/0000000086-gvs-beta-10NRQ.vcf.gz', '/nobackup/h_cqs/shengq2/biovu/gvs/vcf/0000000107-gvs-beta-10NRQ.vcf.gz', '/nobackup/h_cqs/shengq2/biovu/gvs/vcf/0000000108-gvs-beta-10NRQ.vcf.gz', '/nobackup/h_cqs/shengq2/biovu/gvs/vcf/0000000111-gvs-beta-10NRQ.vcf.gz', '/nobackup/h_cqs/shengq2/biovu/gvs/vcf/0000000102-gvs-beta-10NRQ.vcf.gz', '/nobackup/h_cqs/shengq2/biovu/gvs/vcf/0000000088-gvs-beta-10NRQ.vcf.gz', '/nobackup/h_cqs/shengq2/biovu/gvs/vcf/0000000093-gvs-beta-10NRQ.vcf.gz', '/nobackup/h_cqs/shengq2/biovu/gvs/vcf/0000000095-gvs-beta-10NRQ.vcf.gz', '/nobackup/h_cqs/shengq2/biovu/gvs/vcf/0000000096-gvs-beta-10NRQ.vcf.gz', '/nobackup/h_cqs/shengq2/biovu/gvs/vcf/0000000097-gvs-beta-10NRQ.vcf.gz', '/nobackup/h_cqs/shengq2/biovu/gvs/vcf/0000000099-gvs-beta-10NRQ.vcf.gz', '/nobackup/h_cqs/shengq2/biovu/gvs/vcf/0000000079-gvs-beta-10NRQ.vcf.gz', '/nobackup/h_cqs/shengq2/biovu/gvs/vcf/0000000082-gvs-beta-10NRQ.vcf.gz', '/nobackup/h_cqs/shengq2/biovu/gvs/vcf/0000000084-gvs-beta-10NRQ.vcf.gz', '/nobackup/h_cqs/shengq2/biovu/gvs/vcf/0000000083-gvs-beta-10NRQ.vcf.gz', '/nobackup/h_cqs/shengq2/biovu/gvs/vcf/0000000106-gvs-beta-10NRQ.vcf.gz', '/nobackup/h_cqs/shengq2/biovu/gvs/vcf/0000000109-gvs-beta-10NRQ.vcf.gz', '/nobackup/h_cqs/shengq2/biovu/gvs/vcf/0000000110-gvs-beta-10NRQ.vcf.gz', '/nobackup/h_cqs/shengq2/biovu/gvs/vcf/0000000100-gvs-beta-10NRQ.vcf.gz', '/nobackup/h_cqs/shengq2/biovu/gvs/vcf/0000000101-gvs-beta-10NRQ.vcf.gz', '/nobackup/h_cqs/shengq2/biovu/gvs/vcf/0000000104-gvs-beta-10NRQ.vcf.gz']\n"
     ]
    }
   ],
   "source": [
    "# get all files in current folder with .interval_list extension\n",
    "\n",
    "\n",
    "interval_files = [f for f in os.listdir('.') if os.path.isfile(f) and f.endswith('.interval_list')]\n",
    "print(interval_files)\n",
    "\n",
    "vcffiles = [os.path.join(\"/nobackup/h_cqs/shengq2/biovu/gvs/vcf/\", f.replace(\".interval_list\", \"\")) for f in interval_files]\n",
    "print(vcffiles)"
   ]
  },
  {
   "cell_type": "code",
   "execution_count": 49,
   "metadata": {},
   "outputs": [
    {
     "name": "stdout",
     "output_type": "stream",
     "text": [
      "odict_keys(['chr1', 'chr2', 'chr3', 'chr4', 'chr5', 'chr6', 'chr7', 'chr19', 'chr8', 'chr9', 'chrX', 'chr10', 'chr11', 'chr14', 'chr12', 'chr15', 'chr13', 'chr22', 'chr18', 'chr20', 'chr17', 'chr16', 'chrY', 'chr21'])\n"
     ]
    }
   ],
   "source": [
    "import itertools\n",
    "from collections import OrderedDict\n",
    "    \n",
    "df = [[pd.read_csv(f, sep='\\t', header=None, comment='@').iloc[0][0], os.path.basename(f)] for f in interval_files]\n",
    "\n",
    "key_func = lambda x: x[0]\n",
    "chrom_map = OrderedDict()\n",
    "\n",
    "for key, group in itertools.groupby(df, key_func):\n",
    "  chrom_map[key] = [g[1].replace(\".interval_list\",\"\") for g in group]\n",
    "\n",
    "print(chrom_map.keys())\n"
   ]
  },
  {
   "cell_type": "code",
   "execution_count": 42,
   "metadata": {},
   "outputs": [
    {
     "data": {
      "text/plain": [
       "{'0000000000-gvs-beta-10NRQ.vcf.gz': '/nobackup/h_cqs/shengq2/biovu/gvs/vcf/0000000000-gvs-beta-10NRQ.vcf.gz',\n",
       " '0000000001-gvs-beta-10NRQ.vcf.gz': '/nobackup/h_cqs/shengq2/biovu/gvs/vcf/0000000001-gvs-beta-10NRQ.vcf.gz',\n",
       " '0000000002-gvs-beta-10NRQ.vcf.gz': '/nobackup/h_cqs/shengq2/biovu/gvs/vcf/0000000002-gvs-beta-10NRQ.vcf.gz',\n",
       " '0000000003-gvs-beta-10NRQ.vcf.gz': '/nobackup/h_cqs/shengq2/biovu/gvs/vcf/0000000003-gvs-beta-10NRQ.vcf.gz',\n",
       " '0000000004-gvs-beta-10NRQ.vcf.gz': '/nobackup/h_cqs/shengq2/biovu/gvs/vcf/0000000004-gvs-beta-10NRQ.vcf.gz',\n",
       " '0000000005-gvs-beta-10NRQ.vcf.gz': '/nobackup/h_cqs/shengq2/biovu/gvs/vcf/0000000005-gvs-beta-10NRQ.vcf.gz',\n",
       " '0000000006-gvs-beta-10NRQ.vcf.gz': '/nobackup/h_cqs/shengq2/biovu/gvs/vcf/0000000006-gvs-beta-10NRQ.vcf.gz',\n",
       " '0000000007-gvs-beta-10NRQ.vcf.gz': '/nobackup/h_cqs/shengq2/biovu/gvs/vcf/0000000007-gvs-beta-10NRQ.vcf.gz',\n",
       " '0000000008-gvs-beta-10NRQ.vcf.gz': '/nobackup/h_cqs/shengq2/biovu/gvs/vcf/0000000008-gvs-beta-10NRQ.vcf.gz',\n",
       " '0000000009-gvs-beta-10NRQ.vcf.gz': '/nobackup/h_cqs/shengq2/biovu/gvs/vcf/0000000009-gvs-beta-10NRQ.vcf.gz',\n",
       " '0000000010-gvs-beta-10NRQ.vcf.gz': '/nobackup/h_cqs/shengq2/biovu/gvs/vcf/0000000010-gvs-beta-10NRQ.vcf.gz',\n",
       " '0000000011-gvs-beta-10NRQ.vcf.gz': '/nobackup/h_cqs/shengq2/biovu/gvs/vcf/0000000011-gvs-beta-10NRQ.vcf.gz',\n",
       " '0000000012-gvs-beta-10NRQ.vcf.gz': '/nobackup/h_cqs/shengq2/biovu/gvs/vcf/0000000012-gvs-beta-10NRQ.vcf.gz',\n",
       " '0000000013-gvs-beta-10NRQ.vcf.gz': '/nobackup/h_cqs/shengq2/biovu/gvs/vcf/0000000013-gvs-beta-10NRQ.vcf.gz',\n",
       " '0000000014-gvs-beta-10NRQ.vcf.gz': '/nobackup/h_cqs/shengq2/biovu/gvs/vcf/0000000014-gvs-beta-10NRQ.vcf.gz',\n",
       " '0000000015-gvs-beta-10NRQ.vcf.gz': '/nobackup/h_cqs/shengq2/biovu/gvs/vcf/0000000015-gvs-beta-10NRQ.vcf.gz',\n",
       " '0000000016-gvs-beta-10NRQ.vcf.gz': '/nobackup/h_cqs/shengq2/biovu/gvs/vcf/0000000016-gvs-beta-10NRQ.vcf.gz',\n",
       " '0000000017-gvs-beta-10NRQ.vcf.gz': '/nobackup/h_cqs/shengq2/biovu/gvs/vcf/0000000017-gvs-beta-10NRQ.vcf.gz',\n",
       " '0000000018-gvs-beta-10NRQ.vcf.gz': '/nobackup/h_cqs/shengq2/biovu/gvs/vcf/0000000018-gvs-beta-10NRQ.vcf.gz',\n",
       " '0000000019-gvs-beta-10NRQ.vcf.gz': '/nobackup/h_cqs/shengq2/biovu/gvs/vcf/0000000019-gvs-beta-10NRQ.vcf.gz',\n",
       " '0000000020-gvs-beta-10NRQ.vcf.gz': '/nobackup/h_cqs/shengq2/biovu/gvs/vcf/0000000020-gvs-beta-10NRQ.vcf.gz',\n",
       " '0000000021-gvs-beta-10NRQ.vcf.gz': '/nobackup/h_cqs/shengq2/biovu/gvs/vcf/0000000021-gvs-beta-10NRQ.vcf.gz',\n",
       " '0000000023-gvs-beta-10NRQ.vcf.gz': '/nobackup/h_cqs/shengq2/biovu/gvs/vcf/0000000023-gvs-beta-10NRQ.vcf.gz',\n",
       " '0000000022-gvs-beta-10NRQ.vcf.gz': '/nobackup/h_cqs/shengq2/biovu/gvs/vcf/0000000022-gvs-beta-10NRQ.vcf.gz',\n",
       " '0000000024-gvs-beta-10NRQ.vcf.gz': '/nobackup/h_cqs/shengq2/biovu/gvs/vcf/0000000024-gvs-beta-10NRQ.vcf.gz',\n",
       " '0000000025-gvs-beta-10NRQ.vcf.gz': '/nobackup/h_cqs/shengq2/biovu/gvs/vcf/0000000025-gvs-beta-10NRQ.vcf.gz',\n",
       " '0000000027-gvs-beta-10NRQ.vcf.gz': '/nobackup/h_cqs/shengq2/biovu/gvs/vcf/0000000027-gvs-beta-10NRQ.vcf.gz',\n",
       " '0000000028-gvs-beta-10NRQ.vcf.gz': '/nobackup/h_cqs/shengq2/biovu/gvs/vcf/0000000028-gvs-beta-10NRQ.vcf.gz',\n",
       " '0000000026-gvs-beta-10NRQ.vcf.gz': '/nobackup/h_cqs/shengq2/biovu/gvs/vcf/0000000026-gvs-beta-10NRQ.vcf.gz',\n",
       " '0000000030-gvs-beta-10NRQ.vcf.gz': '/nobackup/h_cqs/shengq2/biovu/gvs/vcf/0000000030-gvs-beta-10NRQ.vcf.gz',\n",
       " '0000000032-gvs-beta-10NRQ.vcf.gz': '/nobackup/h_cqs/shengq2/biovu/gvs/vcf/0000000032-gvs-beta-10NRQ.vcf.gz',\n",
       " '0000000031-gvs-beta-10NRQ.vcf.gz': '/nobackup/h_cqs/shengq2/biovu/gvs/vcf/0000000031-gvs-beta-10NRQ.vcf.gz',\n",
       " '0000000033-gvs-beta-10NRQ.vcf.gz': '/nobackup/h_cqs/shengq2/biovu/gvs/vcf/0000000033-gvs-beta-10NRQ.vcf.gz',\n",
       " '0000000034-gvs-beta-10NRQ.vcf.gz': '/nobackup/h_cqs/shengq2/biovu/gvs/vcf/0000000034-gvs-beta-10NRQ.vcf.gz',\n",
       " '0000000029-gvs-beta-10NRQ.vcf.gz': '/nobackup/h_cqs/shengq2/biovu/gvs/vcf/0000000029-gvs-beta-10NRQ.vcf.gz',\n",
       " '0000000035-gvs-beta-10NRQ.vcf.gz': '/nobackup/h_cqs/shengq2/biovu/gvs/vcf/0000000035-gvs-beta-10NRQ.vcf.gz',\n",
       " '0000000037-gvs-beta-10NRQ.vcf.gz': '/nobackup/h_cqs/shengq2/biovu/gvs/vcf/0000000037-gvs-beta-10NRQ.vcf.gz',\n",
       " '0000000040-gvs-beta-10NRQ.vcf.gz': '/nobackup/h_cqs/shengq2/biovu/gvs/vcf/0000000040-gvs-beta-10NRQ.vcf.gz',\n",
       " '0000000038-gvs-beta-10NRQ.vcf.gz': '/nobackup/h_cqs/shengq2/biovu/gvs/vcf/0000000038-gvs-beta-10NRQ.vcf.gz',\n",
       " '0000000039-gvs-beta-10NRQ.vcf.gz': '/nobackup/h_cqs/shengq2/biovu/gvs/vcf/0000000039-gvs-beta-10NRQ.vcf.gz',\n",
       " '0000000042-gvs-beta-10NRQ.vcf.gz': '/nobackup/h_cqs/shengq2/biovu/gvs/vcf/0000000042-gvs-beta-10NRQ.vcf.gz',\n",
       " '0000000043-gvs-beta-10NRQ.vcf.gz': '/nobackup/h_cqs/shengq2/biovu/gvs/vcf/0000000043-gvs-beta-10NRQ.vcf.gz',\n",
       " '0000000041-gvs-beta-10NRQ.vcf.gz': '/nobackup/h_cqs/shengq2/biovu/gvs/vcf/0000000041-gvs-beta-10NRQ.vcf.gz',\n",
       " '0000000090-gvs-beta-10NRQ.vcf.gz': '/nobackup/h_cqs/shengq2/biovu/gvs/vcf/0000000090-gvs-beta-10NRQ.vcf.gz',\n",
       " '0000000047-gvs-beta-10NRQ.vcf.gz': '/nobackup/h_cqs/shengq2/biovu/gvs/vcf/0000000047-gvs-beta-10NRQ.vcf.gz',\n",
       " '0000000045-gvs-beta-10NRQ.vcf.gz': '/nobackup/h_cqs/shengq2/biovu/gvs/vcf/0000000045-gvs-beta-10NRQ.vcf.gz',\n",
       " '0000000044-gvs-beta-10NRQ.vcf.gz': '/nobackup/h_cqs/shengq2/biovu/gvs/vcf/0000000044-gvs-beta-10NRQ.vcf.gz',\n",
       " '0000000036-gvs-beta-10NRQ.vcf.gz': '/nobackup/h_cqs/shengq2/biovu/gvs/vcf/0000000036-gvs-beta-10NRQ.vcf.gz',\n",
       " '0000000046-gvs-beta-10NRQ.vcf.gz': '/nobackup/h_cqs/shengq2/biovu/gvs/vcf/0000000046-gvs-beta-10NRQ.vcf.gz',\n",
       " '0000000048-gvs-beta-10NRQ.vcf.gz': '/nobackup/h_cqs/shengq2/biovu/gvs/vcf/0000000048-gvs-beta-10NRQ.vcf.gz',\n",
       " '0000000053-gvs-beta-10NRQ.vcf.gz': '/nobackup/h_cqs/shengq2/biovu/gvs/vcf/0000000053-gvs-beta-10NRQ.vcf.gz',\n",
       " '0000000055-gvs-beta-10NRQ.vcf.gz': '/nobackup/h_cqs/shengq2/biovu/gvs/vcf/0000000055-gvs-beta-10NRQ.vcf.gz',\n",
       " '0000000052-gvs-beta-10NRQ.vcf.gz': '/nobackup/h_cqs/shengq2/biovu/gvs/vcf/0000000052-gvs-beta-10NRQ.vcf.gz',\n",
       " '0000000105-gvs-beta-10NRQ.vcf.gz': '/nobackup/h_cqs/shengq2/biovu/gvs/vcf/0000000105-gvs-beta-10NRQ.vcf.gz',\n",
       " '0000000051-gvs-beta-10NRQ.vcf.gz': '/nobackup/h_cqs/shengq2/biovu/gvs/vcf/0000000051-gvs-beta-10NRQ.vcf.gz',\n",
       " '0000000050-gvs-beta-10NRQ.vcf.gz': '/nobackup/h_cqs/shengq2/biovu/gvs/vcf/0000000050-gvs-beta-10NRQ.vcf.gz',\n",
       " '0000000054-gvs-beta-10NRQ.vcf.gz': '/nobackup/h_cqs/shengq2/biovu/gvs/vcf/0000000054-gvs-beta-10NRQ.vcf.gz',\n",
       " '0000000049-gvs-beta-10NRQ.vcf.gz': '/nobackup/h_cqs/shengq2/biovu/gvs/vcf/0000000049-gvs-beta-10NRQ.vcf.gz',\n",
       " '0000000057-gvs-beta-10NRQ.vcf.gz': '/nobackup/h_cqs/shengq2/biovu/gvs/vcf/0000000057-gvs-beta-10NRQ.vcf.gz',\n",
       " '0000000063-gvs-beta-10NRQ.vcf.gz': '/nobackup/h_cqs/shengq2/biovu/gvs/vcf/0000000063-gvs-beta-10NRQ.vcf.gz',\n",
       " '0000000060-gvs-beta-10NRQ.vcf.gz': '/nobackup/h_cqs/shengq2/biovu/gvs/vcf/0000000060-gvs-beta-10NRQ.vcf.gz',\n",
       " '0000000064-gvs-beta-10NRQ.vcf.gz': '/nobackup/h_cqs/shengq2/biovu/gvs/vcf/0000000064-gvs-beta-10NRQ.vcf.gz',\n",
       " '0000000065-gvs-beta-10NRQ.vcf.gz': '/nobackup/h_cqs/shengq2/biovu/gvs/vcf/0000000065-gvs-beta-10NRQ.vcf.gz',\n",
       " '0000000075-gvs-beta-10NRQ.vcf.gz': '/nobackup/h_cqs/shengq2/biovu/gvs/vcf/0000000075-gvs-beta-10NRQ.vcf.gz',\n",
       " '0000000069-gvs-beta-10NRQ.vcf.gz': '/nobackup/h_cqs/shengq2/biovu/gvs/vcf/0000000069-gvs-beta-10NRQ.vcf.gz',\n",
       " '0000000078-gvs-beta-10NRQ.vcf.gz': '/nobackup/h_cqs/shengq2/biovu/gvs/vcf/0000000078-gvs-beta-10NRQ.vcf.gz',\n",
       " '0000000077-gvs-beta-10NRQ.vcf.gz': '/nobackup/h_cqs/shengq2/biovu/gvs/vcf/0000000077-gvs-beta-10NRQ.vcf.gz',\n",
       " '0000000073-gvs-beta-10NRQ.vcf.gz': '/nobackup/h_cqs/shengq2/biovu/gvs/vcf/0000000073-gvs-beta-10NRQ.vcf.gz',\n",
       " '0000000071-gvs-beta-10NRQ.vcf.gz': '/nobackup/h_cqs/shengq2/biovu/gvs/vcf/0000000071-gvs-beta-10NRQ.vcf.gz',\n",
       " '0000000098-gvs-beta-10NRQ.vcf.gz': '/nobackup/h_cqs/shengq2/biovu/gvs/vcf/0000000098-gvs-beta-10NRQ.vcf.gz',\n",
       " '0000000089-gvs-beta-10NRQ.vcf.gz': '/nobackup/h_cqs/shengq2/biovu/gvs/vcf/0000000089-gvs-beta-10NRQ.vcf.gz',\n",
       " '0000000103-gvs-beta-10NRQ.vcf.gz': '/nobackup/h_cqs/shengq2/biovu/gvs/vcf/0000000103-gvs-beta-10NRQ.vcf.gz',\n",
       " '0000000056-gvs-beta-10NRQ.vcf.gz': '/nobackup/h_cqs/shengq2/biovu/gvs/vcf/0000000056-gvs-beta-10NRQ.vcf.gz',\n",
       " '0000000091-gvs-beta-10NRQ.vcf.gz': '/nobackup/h_cqs/shengq2/biovu/gvs/vcf/0000000091-gvs-beta-10NRQ.vcf.gz',\n",
       " '0000000092-gvs-beta-10NRQ.vcf.gz': '/nobackup/h_cqs/shengq2/biovu/gvs/vcf/0000000092-gvs-beta-10NRQ.vcf.gz',\n",
       " '0000000061-gvs-beta-10NRQ.vcf.gz': '/nobackup/h_cqs/shengq2/biovu/gvs/vcf/0000000061-gvs-beta-10NRQ.vcf.gz',\n",
       " '0000000058-gvs-beta-10NRQ.vcf.gz': '/nobackup/h_cqs/shengq2/biovu/gvs/vcf/0000000058-gvs-beta-10NRQ.vcf.gz',\n",
       " '0000000059-gvs-beta-10NRQ.vcf.gz': '/nobackup/h_cqs/shengq2/biovu/gvs/vcf/0000000059-gvs-beta-10NRQ.vcf.gz',\n",
       " '0000000062-gvs-beta-10NRQ.vcf.gz': '/nobackup/h_cqs/shengq2/biovu/gvs/vcf/0000000062-gvs-beta-10NRQ.vcf.gz',\n",
       " '0000000094-gvs-beta-10NRQ.vcf.gz': '/nobackup/h_cqs/shengq2/biovu/gvs/vcf/0000000094-gvs-beta-10NRQ.vcf.gz',\n",
       " '0000000080-gvs-beta-10NRQ.vcf.gz': '/nobackup/h_cqs/shengq2/biovu/gvs/vcf/0000000080-gvs-beta-10NRQ.vcf.gz',\n",
       " '0000000067-gvs-beta-10NRQ.vcf.gz': '/nobackup/h_cqs/shengq2/biovu/gvs/vcf/0000000067-gvs-beta-10NRQ.vcf.gz',\n",
       " '0000000066-gvs-beta-10NRQ.vcf.gz': '/nobackup/h_cqs/shengq2/biovu/gvs/vcf/0000000066-gvs-beta-10NRQ.vcf.gz',\n",
       " '0000000076-gvs-beta-10NRQ.vcf.gz': '/nobackup/h_cqs/shengq2/biovu/gvs/vcf/0000000076-gvs-beta-10NRQ.vcf.gz',\n",
       " '0000000068-gvs-beta-10NRQ.vcf.gz': '/nobackup/h_cqs/shengq2/biovu/gvs/vcf/0000000068-gvs-beta-10NRQ.vcf.gz',\n",
       " '0000000070-gvs-beta-10NRQ.vcf.gz': '/nobackup/h_cqs/shengq2/biovu/gvs/vcf/0000000070-gvs-beta-10NRQ.vcf.gz',\n",
       " '0000000072-gvs-beta-10NRQ.vcf.gz': '/nobackup/h_cqs/shengq2/biovu/gvs/vcf/0000000072-gvs-beta-10NRQ.vcf.gz',\n",
       " '0000000074-gvs-beta-10NRQ.vcf.gz': '/nobackup/h_cqs/shengq2/biovu/gvs/vcf/0000000074-gvs-beta-10NRQ.vcf.gz',\n",
       " '0000000087-gvs-beta-10NRQ.vcf.gz': '/nobackup/h_cqs/shengq2/biovu/gvs/vcf/0000000087-gvs-beta-10NRQ.vcf.gz',\n",
       " '0000000085-gvs-beta-10NRQ.vcf.gz': '/nobackup/h_cqs/shengq2/biovu/gvs/vcf/0000000085-gvs-beta-10NRQ.vcf.gz',\n",
       " '0000000081-gvs-beta-10NRQ.vcf.gz': '/nobackup/h_cqs/shengq2/biovu/gvs/vcf/0000000081-gvs-beta-10NRQ.vcf.gz',\n",
       " '0000000086-gvs-beta-10NRQ.vcf.gz': '/nobackup/h_cqs/shengq2/biovu/gvs/vcf/0000000086-gvs-beta-10NRQ.vcf.gz',\n",
       " '0000000107-gvs-beta-10NRQ.vcf.gz': '/nobackup/h_cqs/shengq2/biovu/gvs/vcf/0000000107-gvs-beta-10NRQ.vcf.gz',\n",
       " '0000000108-gvs-beta-10NRQ.vcf.gz': '/nobackup/h_cqs/shengq2/biovu/gvs/vcf/0000000108-gvs-beta-10NRQ.vcf.gz',\n",
       " '0000000111-gvs-beta-10NRQ.vcf.gz': '/nobackup/h_cqs/shengq2/biovu/gvs/vcf/0000000111-gvs-beta-10NRQ.vcf.gz',\n",
       " '0000000102-gvs-beta-10NRQ.vcf.gz': '/nobackup/h_cqs/shengq2/biovu/gvs/vcf/0000000102-gvs-beta-10NRQ.vcf.gz',\n",
       " '0000000088-gvs-beta-10NRQ.vcf.gz': '/nobackup/h_cqs/shengq2/biovu/gvs/vcf/0000000088-gvs-beta-10NRQ.vcf.gz',\n",
       " '0000000093-gvs-beta-10NRQ.vcf.gz': '/nobackup/h_cqs/shengq2/biovu/gvs/vcf/0000000093-gvs-beta-10NRQ.vcf.gz',\n",
       " '0000000095-gvs-beta-10NRQ.vcf.gz': '/nobackup/h_cqs/shengq2/biovu/gvs/vcf/0000000095-gvs-beta-10NRQ.vcf.gz',\n",
       " '0000000096-gvs-beta-10NRQ.vcf.gz': '/nobackup/h_cqs/shengq2/biovu/gvs/vcf/0000000096-gvs-beta-10NRQ.vcf.gz',\n",
       " '0000000097-gvs-beta-10NRQ.vcf.gz': '/nobackup/h_cqs/shengq2/biovu/gvs/vcf/0000000097-gvs-beta-10NRQ.vcf.gz',\n",
       " '0000000099-gvs-beta-10NRQ.vcf.gz': '/nobackup/h_cqs/shengq2/biovu/gvs/vcf/0000000099-gvs-beta-10NRQ.vcf.gz',\n",
       " '0000000079-gvs-beta-10NRQ.vcf.gz': '/nobackup/h_cqs/shengq2/biovu/gvs/vcf/0000000079-gvs-beta-10NRQ.vcf.gz',\n",
       " '0000000082-gvs-beta-10NRQ.vcf.gz': '/nobackup/h_cqs/shengq2/biovu/gvs/vcf/0000000082-gvs-beta-10NRQ.vcf.gz',\n",
       " '0000000084-gvs-beta-10NRQ.vcf.gz': '/nobackup/h_cqs/shengq2/biovu/gvs/vcf/0000000084-gvs-beta-10NRQ.vcf.gz',\n",
       " '0000000083-gvs-beta-10NRQ.vcf.gz': '/nobackup/h_cqs/shengq2/biovu/gvs/vcf/0000000083-gvs-beta-10NRQ.vcf.gz',\n",
       " '0000000106-gvs-beta-10NRQ.vcf.gz': '/nobackup/h_cqs/shengq2/biovu/gvs/vcf/0000000106-gvs-beta-10NRQ.vcf.gz',\n",
       " '0000000109-gvs-beta-10NRQ.vcf.gz': '/nobackup/h_cqs/shengq2/biovu/gvs/vcf/0000000109-gvs-beta-10NRQ.vcf.gz',\n",
       " '0000000110-gvs-beta-10NRQ.vcf.gz': '/nobackup/h_cqs/shengq2/biovu/gvs/vcf/0000000110-gvs-beta-10NRQ.vcf.gz',\n",
       " '0000000100-gvs-beta-10NRQ.vcf.gz': '/nobackup/h_cqs/shengq2/biovu/gvs/vcf/0000000100-gvs-beta-10NRQ.vcf.gz',\n",
       " '0000000101-gvs-beta-10NRQ.vcf.gz': '/nobackup/h_cqs/shengq2/biovu/gvs/vcf/0000000101-gvs-beta-10NRQ.vcf.gz',\n",
       " '0000000104-gvs-beta-10NRQ.vcf.gz': '/nobackup/h_cqs/shengq2/biovu/gvs/vcf/0000000104-gvs-beta-10NRQ.vcf.gz'}"
      ]
     },
     "execution_count": 42,
     "metadata": {},
     "output_type": "execute_result"
    }
   ],
   "source": [
    "vcf_map = {os.path.basename(f):f for f in vcffiles}\n",
    "vcf_map"
   ]
  },
  {
   "cell_type": "code",
   "execution_count": 47,
   "metadata": {},
   "outputs": [
    {
     "data": {
      "text/plain": [
       "[['chr1',\n",
       "  ['/nobackup/h_cqs/shengq2/biovu/gvs/vcf/0000000000-gvs-beta-10NRQ.vcf.gz',\n",
       "   '/nobackup/h_cqs/shengq2/biovu/gvs/vcf/0000000001-gvs-beta-10NRQ.vcf.gz',\n",
       "   '/nobackup/h_cqs/shengq2/biovu/gvs/vcf/0000000002-gvs-beta-10NRQ.vcf.gz',\n",
       "   '/nobackup/h_cqs/shengq2/biovu/gvs/vcf/0000000003-gvs-beta-10NRQ.vcf.gz',\n",
       "   '/nobackup/h_cqs/shengq2/biovu/gvs/vcf/0000000004-gvs-beta-10NRQ.vcf.gz',\n",
       "   '/nobackup/h_cqs/shengq2/biovu/gvs/vcf/0000000005-gvs-beta-10NRQ.vcf.gz',\n",
       "   '/nobackup/h_cqs/shengq2/biovu/gvs/vcf/0000000006-gvs-beta-10NRQ.vcf.gz']],\n",
       " ['chr2',\n",
       "  ['/nobackup/h_cqs/shengq2/biovu/gvs/vcf/0000000007-gvs-beta-10NRQ.vcf.gz',\n",
       "   '/nobackup/h_cqs/shengq2/biovu/gvs/vcf/0000000008-gvs-beta-10NRQ.vcf.gz',\n",
       "   '/nobackup/h_cqs/shengq2/biovu/gvs/vcf/0000000009-gvs-beta-10NRQ.vcf.gz',\n",
       "   '/nobackup/h_cqs/shengq2/biovu/gvs/vcf/0000000010-gvs-beta-10NRQ.vcf.gz',\n",
       "   '/nobackup/h_cqs/shengq2/biovu/gvs/vcf/0000000011-gvs-beta-10NRQ.vcf.gz',\n",
       "   '/nobackup/h_cqs/shengq2/biovu/gvs/vcf/0000000012-gvs-beta-10NRQ.vcf.gz',\n",
       "   '/nobackup/h_cqs/shengq2/biovu/gvs/vcf/0000000013-gvs-beta-10NRQ.vcf.gz',\n",
       "   '/nobackup/h_cqs/shengq2/biovu/gvs/vcf/0000000014-gvs-beta-10NRQ.vcf.gz']],\n",
       " ['chr3',\n",
       "  ['/nobackup/h_cqs/shengq2/biovu/gvs/vcf/0000000015-gvs-beta-10NRQ.vcf.gz',\n",
       "   '/nobackup/h_cqs/shengq2/biovu/gvs/vcf/0000000016-gvs-beta-10NRQ.vcf.gz',\n",
       "   '/nobackup/h_cqs/shengq2/biovu/gvs/vcf/0000000017-gvs-beta-10NRQ.vcf.gz',\n",
       "   '/nobackup/h_cqs/shengq2/biovu/gvs/vcf/0000000018-gvs-beta-10NRQ.vcf.gz',\n",
       "   '/nobackup/h_cqs/shengq2/biovu/gvs/vcf/0000000019-gvs-beta-10NRQ.vcf.gz',\n",
       "   '/nobackup/h_cqs/shengq2/biovu/gvs/vcf/0000000020-gvs-beta-10NRQ.vcf.gz']],\n",
       " ['chr4',\n",
       "  ['/nobackup/h_cqs/shengq2/biovu/gvs/vcf/0000000026-gvs-beta-10NRQ.vcf.gz']],\n",
       " ['chr5',\n",
       "  ['/nobackup/h_cqs/shengq2/biovu/gvs/vcf/0000000029-gvs-beta-10NRQ.vcf.gz']],\n",
       " ['chr6',\n",
       "  ['/nobackup/h_cqs/shengq2/biovu/gvs/vcf/0000000036-gvs-beta-10NRQ.vcf.gz']],\n",
       " ['chr7',\n",
       "  ['/nobackup/h_cqs/shengq2/biovu/gvs/vcf/0000000045-gvs-beta-10NRQ.vcf.gz',\n",
       "   '/nobackup/h_cqs/shengq2/biovu/gvs/vcf/0000000044-gvs-beta-10NRQ.vcf.gz']],\n",
       " ['chr19',\n",
       "  ['/nobackup/h_cqs/shengq2/biovu/gvs/vcf/0000000091-gvs-beta-10NRQ.vcf.gz',\n",
       "   '/nobackup/h_cqs/shengq2/biovu/gvs/vcf/0000000092-gvs-beta-10NRQ.vcf.gz']],\n",
       " ['chr8',\n",
       "  ['/nobackup/h_cqs/shengq2/biovu/gvs/vcf/0000000049-gvs-beta-10NRQ.vcf.gz']],\n",
       " ['chr9',\n",
       "  ['/nobackup/h_cqs/shengq2/biovu/gvs/vcf/0000000054-gvs-beta-10NRQ.vcf.gz']],\n",
       " ['chrX',\n",
       "  ['/nobackup/h_cqs/shengq2/biovu/gvs/vcf/0000000106-gvs-beta-10NRQ.vcf.gz',\n",
       "   '/nobackup/h_cqs/shengq2/biovu/gvs/vcf/0000000109-gvs-beta-10NRQ.vcf.gz',\n",
       "   '/nobackup/h_cqs/shengq2/biovu/gvs/vcf/0000000110-gvs-beta-10NRQ.vcf.gz',\n",
       "   '/nobackup/h_cqs/shengq2/biovu/gvs/vcf/0000000100-gvs-beta-10NRQ.vcf.gz',\n",
       "   '/nobackup/h_cqs/shengq2/biovu/gvs/vcf/0000000101-gvs-beta-10NRQ.vcf.gz',\n",
       "   '/nobackup/h_cqs/shengq2/biovu/gvs/vcf/0000000104-gvs-beta-10NRQ.vcf.gz']],\n",
       " ['chr10',\n",
       "  ['/nobackup/h_cqs/shengq2/biovu/gvs/vcf/0000000058-gvs-beta-10NRQ.vcf.gz',\n",
       "   '/nobackup/h_cqs/shengq2/biovu/gvs/vcf/0000000059-gvs-beta-10NRQ.vcf.gz']],\n",
       " ['chr11',\n",
       "  ['/nobackup/h_cqs/shengq2/biovu/gvs/vcf/0000000062-gvs-beta-10NRQ.vcf.gz']],\n",
       " ['chr14',\n",
       "  ['/nobackup/h_cqs/shengq2/biovu/gvs/vcf/0000000076-gvs-beta-10NRQ.vcf.gz']],\n",
       " ['chr12',\n",
       "  ['/nobackup/h_cqs/shengq2/biovu/gvs/vcf/0000000068-gvs-beta-10NRQ.vcf.gz',\n",
       "   '/nobackup/h_cqs/shengq2/biovu/gvs/vcf/0000000070-gvs-beta-10NRQ.vcf.gz']],\n",
       " ['chr15',\n",
       "  ['/nobackup/h_cqs/shengq2/biovu/gvs/vcf/0000000079-gvs-beta-10NRQ.vcf.gz']],\n",
       " ['chr13',\n",
       "  ['/nobackup/h_cqs/shengq2/biovu/gvs/vcf/0000000072-gvs-beta-10NRQ.vcf.gz',\n",
       "   '/nobackup/h_cqs/shengq2/biovu/gvs/vcf/0000000074-gvs-beta-10NRQ.vcf.gz']],\n",
       " ['chr22',\n",
       "  ['/nobackup/h_cqs/shengq2/biovu/gvs/vcf/0000000097-gvs-beta-10NRQ.vcf.gz']],\n",
       " ['chr18',\n",
       "  ['/nobackup/h_cqs/shengq2/biovu/gvs/vcf/0000000088-gvs-beta-10NRQ.vcf.gz']],\n",
       " ['chr20',\n",
       "  ['/nobackup/h_cqs/shengq2/biovu/gvs/vcf/0000000093-gvs-beta-10NRQ.vcf.gz']],\n",
       " ['chr17',\n",
       "  ['/nobackup/h_cqs/shengq2/biovu/gvs/vcf/0000000084-gvs-beta-10NRQ.vcf.gz']],\n",
       " ['chr16',\n",
       "  ['/nobackup/h_cqs/shengq2/biovu/gvs/vcf/0000000083-gvs-beta-10NRQ.vcf.gz']],\n",
       " ['chrY',\n",
       "  ['/nobackup/h_cqs/shengq2/biovu/gvs/vcf/0000000111-gvs-beta-10NRQ.vcf.gz']],\n",
       " ['chr21',\n",
       "  ['/nobackup/h_cqs/shengq2/biovu/gvs/vcf/0000000095-gvs-beta-10NRQ.vcf.gz',\n",
       "   '/nobackup/h_cqs/shengq2/biovu/gvs/vcf/0000000096-gvs-beta-10NRQ.vcf.gz']]]"
      ]
     },
     "execution_count": 47,
     "metadata": {},
     "output_type": "execute_result"
    }
   ],
   "source": [
    "result = [[chrom, [vcf_map[vcf_name] for vcf_name in chrom_map[chrom]]] for chrom in chrom_map]\n",
    "result"
   ]
  },
  {
   "cell_type": "code",
   "execution_count": 48,
   "metadata": {},
   "outputs": [],
   "source": [
    "import json\n",
    "\n",
    "with open('vcf_map.json', 'w') as fp:\n",
    "    json.dump(result, fp)"
   ]
  }
 ],
 "metadata": {
  "kernelspec": {
   "display_name": "Python 3",
   "language": "python",
   "name": "python3"
  },
  "language_info": {
   "codemirror_mode": {
    "name": "ipython",
    "version": 3
   },
   "file_extension": ".py",
   "mimetype": "text/x-python",
   "name": "python",
   "nbconvert_exporter": "python",
   "pygments_lexer": "ipython3",
   "version": "3.10.9"
  },
  "orig_nbformat": 4,
  "vscode": {
   "interpreter": {
    "hash": "f456f3eb05c73ce5e637900a8078ae936a462822f21d45a1b1c996283f110744"
   }
  }
 },
 "nbformat": 4,
 "nbformat_minor": 2
}
