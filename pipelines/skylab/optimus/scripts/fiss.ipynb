{
 "cells": [
  {
   "cell_type": "code",
   "execution_count": 1,
   "metadata": {},
   "outputs": [],
   "source": [
    "from firecloud import fiss\n",
    "import firecloud.api as fapi\n",
    "import os\n",
    "import io\n",
    "import pandas as pd\n",
    "import argparse\n",
    "import sys \n",
    "import json\n"
   ]
  },
  {
   "cell_type": "code",
   "execution_count": 2,
   "metadata": {},
   "outputs": [],
   "source": [
    "sys.path.append(\"/Users/fkhajoue/GitHub/warp/pipelines/skylab/optimus/scripts/\")"
   ]
  },
  {
   "cell_type": "code",
   "execution_count": 3,
   "metadata": {},
   "outputs": [],
   "source": [
    "import workspace_controller as terra"
   ]
  },
  {
   "cell_type": "code",
   "execution_count": 4,
   "metadata": {},
   "outputs": [],
   "source": [
    "# Get the Google billing project name and workspace name\n",
    "billing_project = \"hca-dev-staging-billing\"\n",
    "workspace_with_workflow = \"DCP2_Optimus_template_FK\"\n",
    "workspace_with_data = \"DCP2_Optimus_template_FK_data\"\n",
    "#Set the new workspace name to project label from the spreadsheet\n",
    "new_workspace_name = \"FK-test-optimus-automation\""
   ]
  },
  {
   "cell_type": "markdown",
   "metadata": {},
   "source": [
    "# Clone a workspace with the workflows"
   ]
  },
  {
   "cell_type": "code",
   "execution_count": 5,
   "metadata": {},
   "outputs": [],
   "source": [
    "response = terra.create_newworkspace(billing_project, workspace_with_workflow, new_workspace_name)\n",
    "\n",
    "if \"attributes\" in response.json():\n",
    "    print(\"success!\")"
   ]
  },
  {
   "cell_type": "markdown",
   "metadata": {},
   "source": [
    "# Get the participant table from the data workspace and save it to a file"
   ]
  },
  {
   "cell_type": "code",
   "execution_count": 11,
   "metadata": {},
   "outputs": [],
   "source": [
    "#set these paths to a local directory to save the data table into and modify the output\n",
    "input_participant_table_name = \"/Users/fkhajoue/Downloads/participant.tsv\"\n",
    "output_prefix = \"/Users/fkhajoue/GitHub/Scratch/data/project_label\""
   ]
  },
  {
   "cell_type": "code",
   "execution_count": 6,
   "metadata": {},
   "outputs": [
    {
     "name": "stdout",
     "output_type": "stream",
     "text": [
      "updated successfully\n"
     ]
    },
    {
     "data": {
      "text/plain": [
       "<Response [200]>"
      ]
     },
     "execution_count": 6,
     "metadata": {},
     "output_type": "execute_result"
    }
   ],
   "source": [
    "terra.get_data_from_workspace(billing_project, workspace_with_data, \"participant\",\n",
    "                              input_participant_table_name)"
   ]
  },
  {
   "cell_type": "markdown",
   "metadata": {},
   "source": [
    "# Modify the participant table for running Optimus"
   ]
  },
  {
   "cell_type": "code",
   "execution_count": 12,
   "metadata": {},
   "outputs": [],
   "source": [
    "terra.parse_terra.create_output_files(input_participant_table_name, output_prefix)"
   ]
  },
  {
   "cell_type": "markdown",
   "metadata": {},
   "source": [
    "# Upload the modified data into your new workspace"
   ]
  },
  {
   "cell_type": "code",
   "execution_count": 13,
   "metadata": {},
   "outputs": [
    {
     "name": "stdout",
     "output_type": "stream",
     "text": [
      "Updating participant_lane entitys 1-20, batch 1/1\n",
      "Updating participant_lane_set entitys 1-20, batch 1/1\n",
      "Updating participant_lane_set memberships 1-20, batch 1/1\n"
     ]
    }
   ],
   "source": [
    "terra.upload_tables(output_prefix + \".tsv\", billing_project, new_workspace_name)\n",
    "terra.upload_tables(output_prefix + \"_entity.tsv\", billing_project, new_workspace_name)\n",
    "terra.upload_tables(output_prefix + \"_membership.tsv\", billing_project, new_workspace_name)"
   ]
  },
  {
   "cell_type": "markdown",
   "metadata": {},
   "source": [
    "# Modify json template to have appropriate info about the pipeline set up for the data"
   ]
  },
  {
   "cell_type": "code",
   "execution_count": 5,
   "metadata": {},
   "outputs": [],
   "source": [
    "import json_templates"
   ]
  },
  {
   "cell_type": "code",
   "execution_count": 36,
   "metadata": {},
   "outputs": [],
   "source": [
    "#Change the chemistry to v3 if necessary\n",
    "json_templates.optimus_inputs['Optimus.chemistry'] = '\\\"tenX_v3\\\"'\n",
    "json_templates.optimus_inputs['Optimus.whitelist'] = 'workspace.whitelist_v3'"
   ]
  },
  {
   "cell_type": "code",
   "execution_count": 37,
   "metadata": {},
   "outputs": [],
   "source": [
    "#Change counting mode to sn_rna if necssary\n",
    "json_templates.optimus_inputs['Optimus.counting_mode'] = '\\\"sn_rna\\\"'"
   ]
  },
  {
   "cell_type": "code",
   "execution_count": 38,
   "metadata": {},
   "outputs": [],
   "source": [
    "#Change reference to mouse\n",
    "json_templates.optimus_inputs['Optimus.annotations_gtf'] = 'workspace.mouse_annotations_gtf'\n",
    "json_templates.optimus_inputs['Optimus.ref_genome_fasta'] = 'workspace.mouse_ref_genome_fasta'\n",
    "json_templates.optimus_inputs['Optimus.tar_star_reference'] = 'workspace.mouse_tar_star_reference'"
   ]
  },
  {
   "cell_type": "code",
   "execution_count": 6,
   "metadata": {},
   "outputs": [
    {
     "data": {
      "text/plain": [
       "{'Optimus.annotations_gtf': 'workspace.human_annotations_gtf',\n",
       " 'Optimus.chemistry': '\"tenX_v2\"',\n",
       " 'Optimus.counting_mode': '\"sc_rna\"',\n",
       " 'Optimus.emptydrops_lower': '1',\n",
       " 'Optimus.i1_fastq': 'this.participant_lanes.i1_fastq',\n",
       " 'Optimus.input_id': 'this.participant_lane_set_id',\n",
       " 'Optimus.input_id_metadata_field': '\"sequencing_process.provenance.document_id\"',\n",
       " 'Optimus.input_name': 'this.input_name',\n",
       " 'Optimus.input_name_metadata_field': '\"sequencing_input.biomaterial_core.biomaterial_id\"',\n",
       " 'Optimus.r1_fastq': 'this.participant_lanes.r1_fastq',\n",
       " 'Optimus.r2_fastq': 'this.participant_lanes.r2_fastq',\n",
       " 'Optimus.ref_genome_fasta': 'workspace.human_ref_genome_fasta',\n",
       " 'Optimus.tar_star_reference': 'workspace.human_tar_star_reference',\n",
       " 'Optimus.whitelist': 'workspace.whitelist_v2'}"
      ]
     },
     "execution_count": 6,
     "metadata": {},
     "output_type": "execute_result"
    }
   ],
   "source": [
    "json_templates.optimus_inputs"
   ]
  },
  {
   "cell_type": "code",
   "execution_count": 17,
   "metadata": {},
   "outputs": [],
   "source": [
    "workflow_name = \"Optimus_4.1.7/Optimus_4.1.7/1\""
   ]
  },
  {
   "cell_type": "code",
   "execution_count": 18,
   "metadata": {},
   "outputs": [
    {
     "ename": "TypeError",
     "evalue": "can only concatenate str (not \"bytes\") to str",
     "output_type": "error",
     "traceback": [
      "\u001b[0;31m---------------------------------------------------------------------------\u001b[0m",
      "\u001b[0;31mTypeError\u001b[0m                                 Traceback (most recent call last)",
      "\u001b[0;32m<ipython-input-18-6b2a0647397c>\u001b[0m in \u001b[0;36m<module>\u001b[0;34m\u001b[0m\n\u001b[0;32m----> 1\u001b[0;31m \u001b[0mterra\u001b[0m\u001b[0;34m.\u001b[0m\u001b[0mupload_workflow_json\u001b[0m\u001b[0;34m(\u001b[0m\u001b[0mbilling_project\u001b[0m\u001b[0;34m,\u001b[0m\u001b[0mnew_workspace_name\u001b[0m\u001b[0;34m,\u001b[0m\u001b[0mworkflow_name\u001b[0m\u001b[0;34m,\u001b[0m\u001b[0mjson_templates\u001b[0m\u001b[0;34m)\u001b[0m\u001b[0;34m\u001b[0m\u001b[0;34m\u001b[0m\u001b[0m\n\u001b[0m",
      "\u001b[0;32m~/GitHub/warp/pipelines/skylab/optimus/scripts/workspace_controller.py\u001b[0m in \u001b[0;36mupload_workflow_json\u001b[0;34m(billing_project, workspace_name, workflow_name, json_templates)\u001b[0m\n\u001b[1;32m     57\u001b[0m \u001b[0;34m\u001b[0m\u001b[0m\n\u001b[1;32m     58\u001b[0m     \u001b[0;32mif\u001b[0m \u001b[0mupdated_workflow\u001b[0m\u001b[0;34m.\u001b[0m\u001b[0mstatus_code\u001b[0m \u001b[0;34m!=\u001b[0m \u001b[0;36m200\u001b[0m\u001b[0;34m:\u001b[0m\u001b[0;34m\u001b[0m\u001b[0;34m\u001b[0m\u001b[0m\n\u001b[0;32m---> 59\u001b[0;31m         \u001b[0mprint\u001b[0m\u001b[0;34m(\u001b[0m\u001b[0;34m\"ERROR :\"\u001b[0m \u001b[0;34m+\u001b[0m \u001b[0mupdated_workflow\u001b[0m\u001b[0;34m.\u001b[0m\u001b[0mcontent\u001b[0m\u001b[0;34m)\u001b[0m\u001b[0;34m\u001b[0m\u001b[0;34m\u001b[0m\u001b[0m\n\u001b[0m\u001b[1;32m     60\u001b[0m         \u001b[0msys\u001b[0m\u001b[0;34m.\u001b[0m\u001b[0mexit\u001b[0m\u001b[0;34m(\u001b[0m\u001b[0;36m1\u001b[0m\u001b[0;34m)\u001b[0m\u001b[0;34m\u001b[0m\u001b[0;34m\u001b[0m\u001b[0m\n\u001b[1;32m     61\u001b[0m     \u001b[0;32melse\u001b[0m\u001b[0;34m:\u001b[0m\u001b[0;34m\u001b[0m\u001b[0;34m\u001b[0m\u001b[0m\n",
      "\u001b[0;31mTypeError\u001b[0m: can only concatenate str (not \"bytes\") to str"
     ]
    }
   ],
   "source": [
    "terra.upload_workflow_json(billing_project,new_workspace_name,workflow_name,json_templates)"
   ]
  },
  {
   "cell_type": "code",
   "execution_count": 19,
   "metadata": {},
   "outputs": [],
   "source": [
    "work_space_config = fapi.get_workspace_config(billing_project, new_workspace_name, new_workspace_name, \"Optimus_4.1.7\")"
   ]
  },
  {
   "cell_type": "code",
   "execution_count": 20,
   "metadata": {},
   "outputs": [],
   "source": [
    "work_space_json = work_space_config.json()"
   ]
  },
  {
   "cell_type": "code",
   "execution_count": 21,
   "metadata": {},
   "outputs": [
    {
     "data": {
      "text/plain": [
       "{'statusCode': 404,\n",
       " 'source': 'rawls',\n",
       " 'timestamp': 1605209069145,\n",
       " 'causes': [],\n",
       " 'stackTrace': [],\n",
       " 'message': 'FK-test-optimus-automation/Optimus_4.1.7 does not exist in Workspace(hca-dev-staging-billing,FK-test-optimus-automation,92a4c21d-bc95-44da-868b-e0bac952ed2a,fc-92a4c21d-bc95-44da-868b-e0bac952ed2a,Some(92a4c21d-bc95-44da-868b-e0bac952ed2a),2020-11-12T17:36:32.282Z,2020-11-12T19:22:10.410Z,fkhajoue@broadinstitute.org,Map(AttributeName(default,referenceData_hg38_one_thousand_genomes_resource_vcf_index) -> AttributeString(gs://gcp-public-data--broad-references/hg38/v0/1000G_phase1.snps.high_confidence.hg38.vcf.gz.tbi), AttributeName(default,referenceData_hg38_ref_pac) -> AttributeString(gs://gcp-public-data--broad-references/hg38/v0/Homo_sapiens_assembly38.fasta.64.pac), AttributeName(default,referenceData_hg38_hapmap_resource_vcf) -> AttributeString(gs://gcp-public-data--broad-references/hg38/v0/hapmap_3.3.hg38.vcf.gz), AttributeName(default,referenceData_hg38_ref_amb) -> AttributeString(gs://gcp-public-data--broad-references/hg38/v0/Homo_sapiens_assembly38.fasta.64.amb), AttributeName(default,referenceData_hg38_ref_bwt) -> AttributeString(gs://gcp-public-data--broad-references/hg38/v0/Homo_sapiens_assembly38.fasta.64.bwt), AttributeName(default,referenceData_hg38_known_indels_sites_indices) -> AttributeString([\"gs://gcp-public-data--broad-references/hg38/v0/Mills_and_1000G_gold_standard.indels.hg38.vcf.gz.tbi\",\"gs://gcp-public-data--broad-references/hg38/v0/Homo_sapiens_assembly38.known_indels.vcf.gz.tbi\"]), AttributeName(default,referenceData_hg38_ref_ann) -> AttributeString(gs://gcp-public-data--broad-references/hg38/v0/Homo_sapiens_assembly38.fasta.64.ann), AttributeName(default,whitelist_v2) -> AttributeString(gs://hca-dcp-sc-pipelines-test-data/whitelists/737K-august-2016.txt), AttributeName(default,referenceData_hg38_ref_dict) -> AttributeString(gs://gcp-public-data--broad-references/hg38/v0/Homo_sapiens_assembly38.dict), AttributeName(library,published) -> AttributeBoolean(false), AttributeName(default,referenceData_hg38_dbsnp_vcf_index) -> AttributeString(gs://gcp-public-data--broad-references/hg38/v0/Homo_sapiens_assembly38.dbsnp138.vcf.idx), AttributeName(default,referenceData_hg38_mills_resource_vcf_index) -> AttributeString(gs://gcp-public-data--broad-references/hg38/v0/Mills_and_1000G_gold_standard.indels.hg38.vcf.gz.tbi), AttributeName(default,Human_10Xv3_inputs_JSON) -> AttributeString(gs://hca-dcp-sc-pipelines-test-data/DCP_2.0_Optimus_Inputs/Human_10Xv3_inputs.json), AttributeName(default,referenceData_hg38_hapmap_resource_vcf_index) -> AttributeString(gs://gcp-public-data--broad-references/hg38/v0/hapmap_3.3.hg38.vcf.gz.tbi), AttributeName(default,human_ref_genome_fasta) -> AttributeString(gs://hca-dcp-sc-pipelines-test-data/alignmentReferences/optimusGencodeV27/GRCh38.primary_assembly.genome.fa), AttributeName(default,referenceData_hg38_call_interval_list) -> AttributeString(gs://gcp-public-data--broad-references/hg38/v0/wgs_calling_regions.hg38.interval_list), AttributeName(default,referenceData_hg38_omni_resource_vcf) -> AttributeString(gs://gcp-public-data--broad-references/hg38/v0/1000G_omni2.5.hg38.vcf.gz), AttributeName(default,referenceData_hg38_one_thousand_genomes_resource_vcf) -> AttributeString(gs://gcp-public-data--broad-references/hg38/v0/1000G_phase1.snps.high_confidence.hg38.vcf.gz), AttributeName(default,description) -> AttributeString(# Optimus Template Workspace\\nA template workspace for DCP2 data processing\\n\\n## Optimus Overview\\nThe Optimus pipeline, developed by the Data Coordination Platform team of the [Human Cell Atlas](https://www.humancellatlas.org/) (HCA DCP), processes 3 prime single-cell or single-nuclei transcriptome data from the [10x Genomics v2 or v3](https://www.10xgenomics.com/solutions/single-cell/) assay.  For more details about the pipeline, see the [Optimus README](https://github.com/HumanCellAtlas/skylab/tree/master/pipelines/optimus) in GitHub.  A high-level overview of the pipeline can also be found on the [HCA Data Portal](https://prod.data.humancellatlas.org/).\\n\\nOptimus has been validated for analyzing both [human](https://github.com/HumanCellAtlas/skylab/blob/master/benchmarking/optimus/optimus_report.rst) and [mouse](https://docs.google.com/document/d/1_3oO0ZQSrwEoe6D3GgKdSmAQ9qkzH_7wrE7x6_deL10/edit) single-cell datasets, as well as [single-nuclei datasets](https://docs.google.com/document/d/1rv2M7vfpOzIOsMnMfNyKB4HV18lQ9dnOGHK2tPikiH0/edit). More details about the human validation can be found in the [in the original report](https://docs.google.com/document/d/158ba_xQM9AYyu8VcLWsIvSoEYps6PQhgddTr9H0BFmY/edit).\\n), AttributeName(default,mouse_ref_genome_fasta) -> AttributeString(gs://hca-dcp-mint-test-data/yanc-test/GRCm38.primary_assembly.genome.fa), AttributeName(default,referenceData_hg38_dbsnp_vcf) -> AttributeString(gs://gcp-public-data--broad-references/hg38/v0/Homo_sapiens_assembly38.dbsnp138.vcf), AttributeName(default,referenceData_hg38_known_indels_sites_VCFs) -> AttributeString([\"gs://gcp-public-data--broad-references/hg38/v0/Mills_and_1000G_gold_standard.indels.hg38.vcf.gz\",\"gs://gcp-public-data--broad-references/hg38/v0/Homo_sapiens_assembly38.known_indels.vcf.gz\"]), AttributeName(default,human_tar_star_reference) -> AttributeString(gs://hca-dcp-sc-pipelines-test-data/alignmentReferences/optimusGencodeV27/buildReference/output_bucket/star_primary_gencode_v27.tar), AttributeName(default,referenceData_hg38_unpadded_intervals_file) -> AttributeString(gs://gatk-test-data/intervals/hg38.even.handcurated.20k.intervals), AttributeName(default,mouse_annotations_gtf) -> AttributeString(gs://hca-dcp-mint-test-data/yanc-test/gencode.vM21.annotation.gtf.gz), AttributeName(default,Mouse_10Xv3_inputs_JSON) -> AttributeString(gs://hca-dcp-sc-pipelines-test-data/DCP_2.0_Optimus_Inputs/Mouse_10Xv3_inputs.json), AttributeName(default,referenceData_hg38_ref_sa) -> AttributeString(gs://gcp-public-data--broad-references/hg38/v0/Homo_sapiens_assembly38.fasta.64.sa), AttributeName(library,discoverableByGroups) -> AttributeValueEmptyList, AttributeName(default,referenceData_hg38_mills_resource_vcf) -> AttributeString(gs://gcp-public-data--broad-references/hg38/v0/Mills_and_1000G_gold_standard.indels.hg38.vcf.gz), AttributeName(default,referenceData_hg38_scattered_calling_intervals_list) -> AttributeString(gs://gatk-test-data/intervals/hg38_wgs_scattered_calling_intervals.txt), AttributeName(default,whitelist_v3) -> AttributeString(gs://hca-dcp-sc-pipelines-test-data/whitelists/3M-february-2018.txt), AttributeName(default,referenceData_hg38_ref_alt) -> AttributeString(gs://gcp-public-data--broad-references/hg38/v0/Homo_sapiens_assembly38.fasta.64.alt), AttributeName(default,Human_10Xv2_inputs_JSON) -> AttributeString(gs://hca-dcp-sc-pipelines-test-data/DCP_2.0_Optimus_Inputs/Human_10Xv2_inputs.json), AttributeName(default,referenceData_hg38_omni_resource_vcf_index) -> AttributeString(gs://gcp-public-data--broad-references/hg38/v0/1000G_omni2.5.hg38.vcf.gz.tbi), AttributeName(default,Mouse_10Xv2_inputs_JSON) -> AttributeString(gs://hca-dcp-sc-pipelines-test-data/DCP_2.0_Optimus_Inputs/Mouse_10Xv2_inputs.json), AttributeName(default,referenceData_hg38_ref_fasta) -> AttributeString(gs://gcp-public-data--broad-references/hg38/v0/Homo_sapiens_assembly38.fasta), AttributeName(default,human_annotations_gtf) -> AttributeString(gs://hca-dcp-sc-pipelines-test-data/alignmentReferences/optimusGencodeV27/gencode.v27.primary_assembly.annotation.gtf.gz), AttributeName(default,referenceData_hg38_eval_interval_list) -> AttributeString(gs://gcp-public-data--broad-references/hg38/v0/wgs_evaluation_regions.hg38.interval_list), AttributeName(default,mouse_tar_star_reference) -> AttributeString(gs://hca-dcp-mint-test-data/20190507-PipelinesSurge/mouse_reference/star_primary_gencode_mouse_vM21.tar), AttributeName(default,referenceData_hg38_axiomPoly_resource_vcf) -> AttributeString(gs://gcp-public-data--broad-references/hg38/v0/Axiom_Exome_Plus.genotypes.all_populations.poly.hg38.vcf.gz), AttributeName(default,referenceData_hg38_axiomPoly_resource_vcf_index) -> AttributeString(gs://gcp-public-data--broad-references/hg38/v0/Axiom_Exome_Plus.genotypes.all_populations.poly.hg38.vcf.gz.tbi), AttributeName(default,referenceData_hg38_ref_fasta_index) -> AttributeString(gs://gcp-public-data--broad-references/hg38/v0/Homo_sapiens_assembly38.fasta.fai)),false,v1,hca-dev-staging-billing)'}"
      ]
     },
     "execution_count": 21,
     "metadata": {},
     "output_type": "execute_result"
    }
   ],
   "source": [
    "work_space_json"
   ]
  },
  {
   "cell_type": "code",
   "execution_count": null,
   "metadata": {},
   "outputs": [],
   "source": []
  }
 ],
 "metadata": {
  "kernelspec": {
   "display_name": "Python 3",
   "language": "python",
   "name": "python3"
  },
  "language_info": {
   "codemirror_mode": {
    "name": "ipython",
    "version": 3
   },
   "file_extension": ".py",
   "mimetype": "text/x-python",
   "name": "python",
   "nbconvert_exporter": "python",
   "pygments_lexer": "ipython3",
   "version": "3.7.3"
  }
 },
 "nbformat": 4,
 "nbformat_minor": 4
}
