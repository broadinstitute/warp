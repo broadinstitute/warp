{
 "cells": [
  {
   "cell_type": "code",
   "execution_count": 1,
   "metadata": {},
   "outputs": [],
   "source": [
    "from firecloud import fiss\n",
    "import firecloud.api as fapi\n",
    "import os\n",
    "import io\n",
    "import pandas as pd\n",
    "import argparse\n",
    "import sys \n",
    "import json\n"
   ]
  },
  {
   "cell_type": "code",
   "execution_count": 2,
   "metadata": {},
   "outputs": [],
   "source": [
    "sys.path.append(\"/Users/fkhajoue/GitHub/warp/pipelines/skylab/optimus/scripts/\")"
   ]
  },
  {
   "cell_type": "code",
   "execution_count": 3,
   "metadata": {},
   "outputs": [],
   "source": [
    "import workspace_controller as terra"
   ]
  },
  {
   "cell_type": "code",
   "execution_count": 4,
   "metadata": {},
   "outputs": [],
   "source": [
    "# Get the Google billing project name and workspace name\n",
    "billing_project = \"hca-dev-staging-billing\"\n",
    "workspace_with_workflow = \"DCP2_Optimus_template_FK\"\n",
    "workspace_with_data = \"DCP2_Optimus_template_FK_data\"\n",
    "#Set the new workspace name to project label from the spreadsheet\n",
    "new_workspace_name = \"FK-test-optimus-automation\""
   ]
  },
  {
   "cell_type": "markdown",
   "metadata": {},
   "source": [
    "# Clone a workspace with the workflows"
   ]
  },
  {
   "cell_type": "code",
   "execution_count": 5,
   "metadata": {},
   "outputs": [],
   "source": [
    "response = terra.create_newworkspace(billing_project, workspace_with_workflow, new_workspace_name)\n",
    "\n",
    "if \"attributes\" in response.json():\n",
    "    print(\"success!\")"
   ]
  },
  {
   "cell_type": "markdown",
   "metadata": {},
   "source": [
    "# Get the participant table from the data workspace and save it to a file"
   ]
  },
  {
   "cell_type": "code",
   "execution_count": 11,
   "metadata": {},
   "outputs": [],
   "source": [
    "#set these paths to a local directory to save the data table into and modify the output\n",
    "input_participant_table_name = \"/Users/fkhajoue/Downloads/participant.tsv\"\n",
    "output_prefix = \"/Users/fkhajoue/GitHub/Scratch/data/project_label\""
   ]
  },
  {
   "cell_type": "code",
   "execution_count": 6,
   "metadata": {},
   "outputs": [
    {
     "name": "stdout",
     "output_type": "stream",
     "text": [
      "updated successfully\n"
     ]
    },
    {
     "data": {
      "text/plain": [
       "<Response [200]>"
      ]
     },
     "execution_count": 6,
     "metadata": {},
     "output_type": "execute_result"
    }
   ],
   "source": [
    "terra.get_data_from_workspace(billing_project, workspace_with_data, \"participant\",\n",
    "                              input_participant_table_name)"
   ]
  },
  {
   "cell_type": "markdown",
   "metadata": {},
   "source": [
    "# Modify the participant table for running Optimus"
   ]
  },
  {
   "cell_type": "code",
   "execution_count": 12,
   "metadata": {},
   "outputs": [],
   "source": [
    "terra.parse_terra.create_output_files(input_participant_table_name, output_prefix)"
   ]
  },
  {
   "cell_type": "markdown",
   "metadata": {},
   "source": [
    "# Upload the modified data into your new workspace"
   ]
  },
  {
   "cell_type": "code",
   "execution_count": 13,
   "metadata": {},
   "outputs": [
    {
     "name": "stdout",
     "output_type": "stream",
     "text": [
      "Updating participant_lane entitys 1-20, batch 1/1\n",
      "Updating participant_lane_set entitys 1-20, batch 1/1\n",
      "Updating participant_lane_set memberships 1-20, batch 1/1\n"
     ]
    }
   ],
   "source": [
    "terra.upload_tables(output_prefix + \".tsv\", billing_project, new_workspace_name)\n",
    "terra.upload_tables(output_prefix + \"_entity.tsv\", billing_project, new_workspace_name)\n",
    "terra.upload_tables(output_prefix + \"_membership.tsv\", billing_project, new_workspace_name)"
   ]
  },
  {
   "cell_type": "markdown",
   "metadata": {},
   "source": [
    "# Modify json template to have appropriate info about the pipeline set up for the data"
   ]
  },
  {
   "cell_type": "code",
   "execution_count": 5,
   "metadata": {},
   "outputs": [],
   "source": [
    "import json_templates"
   ]
  },
  {
   "cell_type": "code",
   "execution_count": 36,
   "metadata": {},
   "outputs": [],
   "source": [
    "#Change the chemistry to v3 if necessary\n",
    "json_templates.optimus_inputs['Optimus.chemistry'] = '\\\"tenX_v3\\\"'\n",
    "json_templates.optimus_inputs['Optimus.whitelist'] = 'workspace.whitelist_v3'"
   ]
  },
  {
   "cell_type": "code",
   "execution_count": 37,
   "metadata": {},
   "outputs": [],
   "source": [
    "#Change counting mode to sn_rna if necssary\n",
    "json_templates.optimus_inputs['Optimus.counting_mode'] = '\\\"sn_rna\\\"'"
   ]
  },
  {
   "cell_type": "code",
   "execution_count": 38,
   "metadata": {},
   "outputs": [],
   "source": [
    "#Change reference to mouse\n",
    "json_templates.optimus_inputs['Optimus.annotations_gtf'] = 'workspace.mouse_annotations_gtf'\n",
    "json_templates.optimus_inputs['Optimus.ref_genome_fasta'] = 'workspace.mouse_ref_genome_fasta'\n",
    "json_templates.optimus_inputs['Optimus.tar_star_reference'] = 'workspace.mouse_tar_star_reference'"
   ]
  },
  {
   "cell_type": "code",
   "execution_count": 6,
   "metadata": {},
   "outputs": [
    {
     "data": {
      "text/plain": [
       "{'Optimus.annotations_gtf': 'workspace.human_annotations_gtf',\n",
       " 'Optimus.chemistry': '\"tenX_v2\"',\n",
       " 'Optimus.counting_mode': '\"sc_rna\"',\n",
       " 'Optimus.emptydrops_lower': '1',\n",
       " 'Optimus.i1_fastq': 'this.participant_lanes.i1_fastq',\n",
       " 'Optimus.input_id': 'this.participant_lane_set_id',\n",
       " 'Optimus.input_id_metadata_field': '\"sequencing_process.provenance.document_id\"',\n",
       " 'Optimus.input_name': 'this.input_name',\n",
       " 'Optimus.input_name_metadata_field': '\"sequencing_input.biomaterial_core.biomaterial_id\"',\n",
       " 'Optimus.r1_fastq': 'this.participant_lanes.r1_fastq',\n",
       " 'Optimus.r2_fastq': 'this.participant_lanes.r2_fastq',\n",
       " 'Optimus.ref_genome_fasta': 'workspace.human_ref_genome_fasta',\n",
       " 'Optimus.tar_star_reference': 'workspace.human_tar_star_reference',\n",
       " 'Optimus.whitelist': 'workspace.whitelist_v2'}"
      ]
     },
     "execution_count": 6,
     "metadata": {},
     "output_type": "execute_result"
    }
   ],
   "source": [
    "json_templates.optimus_inputs"
   ]
  },
  {
   "cell_type": "code",
   "execution_count": 7,
   "metadata": {},
   "outputs": [],
   "source": [
    "workflow_name = \"Optimus_4.1.7\"\n",
    "namespace = \"Optimus_4.1.7\" #UPDATE to a generic name later"
   ]
  },
  {
   "cell_type": "code",
   "execution_count": 9,
   "metadata": {},
   "outputs": [
    {
     "name": "stdout",
     "output_type": "stream",
     "text": [
      "updated successfully\n"
     ]
    }
   ],
   "source": [
    "terra.upload_workflow_json(billing_project,new_workspace_name,namespace,workflow_name,json_templates)"
   ]
  },
  {
   "cell_type": "markdown",
   "metadata": {},
   "source": [
    "# Run the workflow"
   ]
  },
  {
   "cell_type": "code",
   "execution_count": null,
   "metadata": {},
   "outputs": [],
   "source": [
    "create_job_submission(billing_project,new_workspace_name,workflow_name,namespace):"
   ]
  }
 ],
 "metadata": {
  "kernelspec": {
   "display_name": "Python 3",
   "language": "python",
   "name": "python3"
  },
  "language_info": {
   "codemirror_mode": {
    "name": "ipython",
    "version": 3
   },
   "file_extension": ".py",
   "mimetype": "text/x-python",
   "name": "python",
   "nbconvert_exporter": "python",
   "pygments_lexer": "ipython3",
   "version": "3.7.3"
  }
 },
 "nbformat": 4,
 "nbformat_minor": 4
}
