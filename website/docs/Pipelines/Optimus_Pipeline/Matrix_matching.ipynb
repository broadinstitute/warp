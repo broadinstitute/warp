{
 "cells": [
  {
   "cell_type": "code",
   "execution_count": 1,
   "metadata": {},
   "outputs": [],
   "source": [
    "# import loompy for working with the Loom files and pandas to make a new dataframe\n",
    "import loompy"
   ]
  },
  {
   "cell_type": "code",
   "execution_count": 2,
   "metadata": {},
   "outputs": [],
   "source": [
    "import pandas"
   ]
  },
  {
   "cell_type": "code",
   "execution_count": 3,
   "metadata": {},
   "outputs": [
    {
     "name": "stdout",
     "output_type": "stream",
     "text": [
      "/Users/ekiernan/Desktop\r\n"
     ]
    }
   ],
   "source": [
    "!pwd"
   ]
  },
  {
   "cell_type": "code",
   "execution_count": 4,
   "metadata": {},
   "outputs": [],
   "source": [
    "# Assign the project metadata manifest file to it's own variable\n",
    "metadata = pandas.read_csv(\"/Users/ekiernan/Desktop/Matrix_doc_improvements/HumanTissueTcellActivation 2021-07-03 03.29 (1).txt\", sep=\"\\t\")"
   ]
  },
  {
   "cell_type": "code",
   "execution_count": 5,
   "metadata": {},
   "outputs": [
    {
     "data": {
      "text/html": [
       "<div>\n",
       "<style scoped>\n",
       "    .dataframe tbody tr th:only-of-type {\n",
       "        vertical-align: middle;\n",
       "    }\n",
       "\n",
       "    .dataframe tbody tr th {\n",
       "        vertical-align: top;\n",
       "    }\n",
       "\n",
       "    .dataframe thead th {\n",
       "        text-align: right;\n",
       "    }\n",
       "</style>\n",
       "<table border=\"1\" class=\"dataframe\">\n",
       "  <thead>\n",
       "    <tr style=\"text-align: right;\">\n",
       "      <th></th>\n",
       "      <th>source_id</th>\n",
       "      <th>source_spec</th>\n",
       "      <th>bundle_uuid</th>\n",
       "      <th>bundle_version</th>\n",
       "      <th>file_document_id</th>\n",
       "      <th>file_type</th>\n",
       "      <th>file_name</th>\n",
       "      <th>file_format</th>\n",
       "      <th>read_index</th>\n",
       "      <th>file_size</th>\n",
       "      <th>...</th>\n",
       "      <th>organoid.provenance.document_id</th>\n",
       "      <th>organoid.biomaterial_core.biomaterial_id</th>\n",
       "      <th>organoid.model_organ</th>\n",
       "      <th>organoid.model_organ_part</th>\n",
       "      <th>_entity_type</th>\n",
       "      <th>sample.provenance.document_id</th>\n",
       "      <th>sample.biomaterial_core.biomaterial_id</th>\n",
       "      <th>sequencing_input.provenance.document_id</th>\n",
       "      <th>sequencing_input.biomaterial_core.biomaterial_id</th>\n",
       "      <th>sequencing_input_type</th>\n",
       "    </tr>\n",
       "  </thead>\n",
       "  <tbody>\n",
       "    <tr>\n",
       "      <th>0</th>\n",
       "      <td>6f1987da-5cbf-492c-b930-fd24891099a8</td>\n",
       "      <td>tdr:broad-datarepo-terra-prod-hca2:snapshot/hc...</td>\n",
       "      <td>5395ccdf-03f7-4955-90b1-192b1b297e5e</td>\n",
       "      <td>2019-09-13T18:02:37.651387Z</td>\n",
       "      <td>0bcb3617-9a3e-4c16-88da-d20a95457c79</td>\n",
       "      <td>sequence_file</td>\n",
       "      <td>PP019_R1.fastq.gz</td>\n",
       "      <td>fastq.gz</td>\n",
       "      <td>read1</td>\n",
       "      <td>7332137699</td>\n",
       "      <td>...</td>\n",
       "      <td>NaN</td>\n",
       "      <td>NaN</td>\n",
       "      <td>NaN</td>\n",
       "      <td>NaN</td>\n",
       "      <td>specimens</td>\n",
       "      <td>edd28ba8-0bb3-476c-9079-d01b939617b0</td>\n",
       "      <td>PP019</td>\n",
       "      <td>71785992-f5eb-41e2-9c0c-9435d2fa33aa</td>\n",
       "      <td>PP019_suspension</td>\n",
       "      <td>cell_suspension</td>\n",
       "    </tr>\n",
       "    <tr>\n",
       "      <th>1</th>\n",
       "      <td>6f1987da-5cbf-492c-b930-fd24891099a8</td>\n",
       "      <td>tdr:broad-datarepo-terra-prod-hca2:snapshot/hc...</td>\n",
       "      <td>67295473-f856-403f-b893-b849f0b781fa</td>\n",
       "      <td>2019-09-13T18:02:37.639820Z</td>\n",
       "      <td>0fa77cad-2133-4e93-b9d6-d06a6f6771de</td>\n",
       "      <td>sequence_file</td>\n",
       "      <td>PP013_R1.fastq.gz</td>\n",
       "      <td>fastq.gz</td>\n",
       "      <td>read1</td>\n",
       "      <td>6874754868</td>\n",
       "      <td>...</td>\n",
       "      <td>NaN</td>\n",
       "      <td>NaN</td>\n",
       "      <td>NaN</td>\n",
       "      <td>NaN</td>\n",
       "      <td>specimens</td>\n",
       "      <td>85a0036b-fb11-40b5-b805-0af94bceee23</td>\n",
       "      <td>PP013</td>\n",
       "      <td>78b08aea-c194-4aa1-9e2e-56df9649bef1</td>\n",
       "      <td>PP013_suspension</td>\n",
       "      <td>cell_suspension</td>\n",
       "    </tr>\n",
       "    <tr>\n",
       "      <th>2</th>\n",
       "      <td>6f1987da-5cbf-492c-b930-fd24891099a8</td>\n",
       "      <td>tdr:broad-datarepo-terra-prod-hca2:snapshot/hc...</td>\n",
       "      <td>f3b7ca6b-84a3-43ba-afad-a78beae7c927</td>\n",
       "      <td>2019-09-13T18:02:37.638486Z</td>\n",
       "      <td>0fe2dfb1-a7ca-4faf-bcb4-1cb3c89756de</td>\n",
       "      <td>sequence_file</td>\n",
       "      <td>PP006_R2.fastq.gz</td>\n",
       "      <td>fastq.gz</td>\n",
       "      <td>read2</td>\n",
       "      <td>27601166881</td>\n",
       "      <td>...</td>\n",
       "      <td>NaN</td>\n",
       "      <td>NaN</td>\n",
       "      <td>NaN</td>\n",
       "      <td>NaN</td>\n",
       "      <td>specimens</td>\n",
       "      <td>c2fed28d-cdd4-4fb4-bb94-5681dc99f52d</td>\n",
       "      <td>PP006</td>\n",
       "      <td>cf7767c4-1daa-4d43-8155-65f30325e936</td>\n",
       "      <td>PP006_suspension</td>\n",
       "      <td>cell_suspension</td>\n",
       "    </tr>\n",
       "    <tr>\n",
       "      <th>3</th>\n",
       "      <td>6f1987da-5cbf-492c-b930-fd24891099a8</td>\n",
       "      <td>tdr:broad-datarepo-terra-prod-hca2:snapshot/hc...</td>\n",
       "      <td>e3ecdfc2-4454-5be3-8ea9-4475a04d1b70</td>\n",
       "      <td>2021-02-02T23:55:00.000000Z</td>\n",
       "      <td>11413ad3-0fa4-5e32-b518-965c28b86e2c</td>\n",
       "      <td>analysis_file</td>\n",
       "      <td>c763f679-e13d-4f81-844f-c2c80fc90f46.bam</td>\n",
       "      <td>bam</td>\n",
       "      <td>NaN</td>\n",
       "      <td>23812202516</td>\n",
       "      <td>...</td>\n",
       "      <td>NaN</td>\n",
       "      <td>NaN</td>\n",
       "      <td>NaN</td>\n",
       "      <td>NaN</td>\n",
       "      <td>specimens</td>\n",
       "      <td>55c59b93-6ce2-4d53-a7b8-5573d4f962fb</td>\n",
       "      <td>PP003</td>\n",
       "      <td>849419b1-77af-43aa-8ce9-6438ddee7420</td>\n",
       "      <td>PP003_suspension</td>\n",
       "      <td>cell_suspension</td>\n",
       "    </tr>\n",
       "    <tr>\n",
       "      <th>4</th>\n",
       "      <td>6f1987da-5cbf-492c-b930-fd24891099a8</td>\n",
       "      <td>tdr:broad-datarepo-terra-prod-hca2:snapshot/hc...</td>\n",
       "      <td>8e850d2d-0b76-501d-913e-8b92eb761d29</td>\n",
       "      <td>2021-02-02T23:50:00.000000Z</td>\n",
       "      <td>11abfd14-f28a-533f-a06a-a0dbf278de80</td>\n",
       "      <td>analysis_file</td>\n",
       "      <td>3ddf143f-36bd-49c5-9bbf-f5b71e384063.bam</td>\n",
       "      <td>bam</td>\n",
       "      <td>NaN</td>\n",
       "      <td>30307807764</td>\n",
       "      <td>...</td>\n",
       "      <td>NaN</td>\n",
       "      <td>NaN</td>\n",
       "      <td>NaN</td>\n",
       "      <td>NaN</td>\n",
       "      <td>specimens</td>\n",
       "      <td>03a73511-bdeb-47e0-8c1d-588fdbe8bb66</td>\n",
       "      <td>PP020</td>\n",
       "      <td>1cf9b45c-268c-4934-9203-f9e16a90d46d</td>\n",
       "      <td>PP020_suspension</td>\n",
       "      <td>cell_suspension</td>\n",
       "    </tr>\n",
       "  </tbody>\n",
       "</table>\n",
       "<p>5 rows × 55 columns</p>\n",
       "</div>"
      ],
      "text/plain": [
       "                              source_id  \\\n",
       "0  6f1987da-5cbf-492c-b930-fd24891099a8   \n",
       "1  6f1987da-5cbf-492c-b930-fd24891099a8   \n",
       "2  6f1987da-5cbf-492c-b930-fd24891099a8   \n",
       "3  6f1987da-5cbf-492c-b930-fd24891099a8   \n",
       "4  6f1987da-5cbf-492c-b930-fd24891099a8   \n",
       "\n",
       "                                         source_spec  \\\n",
       "0  tdr:broad-datarepo-terra-prod-hca2:snapshot/hc...   \n",
       "1  tdr:broad-datarepo-terra-prod-hca2:snapshot/hc...   \n",
       "2  tdr:broad-datarepo-terra-prod-hca2:snapshot/hc...   \n",
       "3  tdr:broad-datarepo-terra-prod-hca2:snapshot/hc...   \n",
       "4  tdr:broad-datarepo-terra-prod-hca2:snapshot/hc...   \n",
       "\n",
       "                            bundle_uuid               bundle_version  \\\n",
       "0  5395ccdf-03f7-4955-90b1-192b1b297e5e  2019-09-13T18:02:37.651387Z   \n",
       "1  67295473-f856-403f-b893-b849f0b781fa  2019-09-13T18:02:37.639820Z   \n",
       "2  f3b7ca6b-84a3-43ba-afad-a78beae7c927  2019-09-13T18:02:37.638486Z   \n",
       "3  e3ecdfc2-4454-5be3-8ea9-4475a04d1b70  2021-02-02T23:55:00.000000Z   \n",
       "4  8e850d2d-0b76-501d-913e-8b92eb761d29  2021-02-02T23:50:00.000000Z   \n",
       "\n",
       "                       file_document_id      file_type  \\\n",
       "0  0bcb3617-9a3e-4c16-88da-d20a95457c79  sequence_file   \n",
       "1  0fa77cad-2133-4e93-b9d6-d06a6f6771de  sequence_file   \n",
       "2  0fe2dfb1-a7ca-4faf-bcb4-1cb3c89756de  sequence_file   \n",
       "3  11413ad3-0fa4-5e32-b518-965c28b86e2c  analysis_file   \n",
       "4  11abfd14-f28a-533f-a06a-a0dbf278de80  analysis_file   \n",
       "\n",
       "                                  file_name file_format read_index  \\\n",
       "0                         PP019_R1.fastq.gz    fastq.gz      read1   \n",
       "1                         PP013_R1.fastq.gz    fastq.gz      read1   \n",
       "2                         PP006_R2.fastq.gz    fastq.gz      read2   \n",
       "3  c763f679-e13d-4f81-844f-c2c80fc90f46.bam         bam        NaN   \n",
       "4  3ddf143f-36bd-49c5-9bbf-f5b71e384063.bam         bam        NaN   \n",
       "\n",
       "     file_size  ... organoid.provenance.document_id  \\\n",
       "0   7332137699  ...                             NaN   \n",
       "1   6874754868  ...                             NaN   \n",
       "2  27601166881  ...                             NaN   \n",
       "3  23812202516  ...                             NaN   \n",
       "4  30307807764  ...                             NaN   \n",
       "\n",
       "  organoid.biomaterial_core.biomaterial_id organoid.model_organ  \\\n",
       "0                                      NaN                  NaN   \n",
       "1                                      NaN                  NaN   \n",
       "2                                      NaN                  NaN   \n",
       "3                                      NaN                  NaN   \n",
       "4                                      NaN                  NaN   \n",
       "\n",
       "  organoid.model_organ_part _entity_type  \\\n",
       "0                       NaN    specimens   \n",
       "1                       NaN    specimens   \n",
       "2                       NaN    specimens   \n",
       "3                       NaN    specimens   \n",
       "4                       NaN    specimens   \n",
       "\n",
       "          sample.provenance.document_id  \\\n",
       "0  edd28ba8-0bb3-476c-9079-d01b939617b0   \n",
       "1  85a0036b-fb11-40b5-b805-0af94bceee23   \n",
       "2  c2fed28d-cdd4-4fb4-bb94-5681dc99f52d   \n",
       "3  55c59b93-6ce2-4d53-a7b8-5573d4f962fb   \n",
       "4  03a73511-bdeb-47e0-8c1d-588fdbe8bb66   \n",
       "\n",
       "  sample.biomaterial_core.biomaterial_id  \\\n",
       "0                                  PP019   \n",
       "1                                  PP013   \n",
       "2                                  PP006   \n",
       "3                                  PP003   \n",
       "4                                  PP020   \n",
       "\n",
       "  sequencing_input.provenance.document_id  \\\n",
       "0    71785992-f5eb-41e2-9c0c-9435d2fa33aa   \n",
       "1    78b08aea-c194-4aa1-9e2e-56df9649bef1   \n",
       "2    cf7767c4-1daa-4d43-8155-65f30325e936   \n",
       "3    849419b1-77af-43aa-8ce9-6438ddee7420   \n",
       "4    1cf9b45c-268c-4934-9203-f9e16a90d46d   \n",
       "\n",
       "  sequencing_input.biomaterial_core.biomaterial_id  sequencing_input_type  \n",
       "0                                 PP019_suspension        cell_suspension  \n",
       "1                                 PP013_suspension        cell_suspension  \n",
       "2                                 PP006_suspension        cell_suspension  \n",
       "3                                 PP003_suspension        cell_suspension  \n",
       "4                                 PP020_suspension        cell_suspension  \n",
       "\n",
       "[5 rows x 55 columns]"
      ]
     },
     "execution_count": 5,
     "metadata": {},
     "output_type": "execute_result"
    }
   ],
   "source": [
    "# Look at the columns of the metadata manifest\n",
    "metadata.head()"
   ]
  },
  {
   "cell_type": "code",
   "execution_count": 7,
   "metadata": {},
   "outputs": [
    {
     "data": {
      "text/plain": [
       "(73, 55)"
      ]
     },
     "execution_count": 7,
     "metadata": {},
     "output_type": "execute_result"
    }
   ],
   "source": [
    "metadata.shape"
   ]
  },
  {
   "cell_type": "code",
   "execution_count": 8,
   "metadata": {},
   "outputs": [],
   "source": [
    "# Read the contributor-generated matrix into a pandas datafrane\n",
    "contributor=pandas.read_csv(\"/Users/ekiernan/Desktop/Matrix_doc_improvements/TCellActivation-Blood-10x_cell_type_2020-03-11 (1).csv\")"
   ]
  },
  {
   "cell_type": "code",
   "execution_count": 9,
   "metadata": {},
   "outputs": [
    {
     "data": {
      "text/html": [
       "<div>\n",
       "<style scoped>\n",
       "    .dataframe tbody tr th:only-of-type {\n",
       "        vertical-align: middle;\n",
       "    }\n",
       "\n",
       "    .dataframe tbody tr th {\n",
       "        vertical-align: top;\n",
       "    }\n",
       "\n",
       "    .dataframe thead th {\n",
       "        text-align: right;\n",
       "    }\n",
       "</style>\n",
       "<table border=\"1\" class=\"dataframe\">\n",
       "  <thead>\n",
       "    <tr style=\"text-align: right;\">\n",
       "      <th></th>\n",
       "      <th>specimen_from_organism.provenance.document_id</th>\n",
       "      <th>specimen_from_organism.biomaterial_core.biomaterial_id</th>\n",
       "      <th>annotated_cell_identity.text</th>\n",
       "      <th>annotated_cell_identity.ontology</th>\n",
       "      <th>annotated_cell_identity.ontology_label</th>\n",
       "      <th>barcode</th>\n",
       "    </tr>\n",
       "  </thead>\n",
       "  <tbody>\n",
       "    <tr>\n",
       "      <th>0</th>\n",
       "      <td>46cbd6a3-1ba4-4f57-b27d-4e2b918b0d4c</td>\n",
       "      <td>PP017</td>\n",
       "      <td>activated CD4+ T cell</td>\n",
       "      <td>CL:0001043</td>\n",
       "      <td>activated CD4-positive, alpha-beta T cell, human</td>\n",
       "      <td>GTCATTTAGTGTGAAT</td>\n",
       "    </tr>\n",
       "    <tr>\n",
       "      <th>1</th>\n",
       "      <td>46cbd6a3-1ba4-4f57-b27d-4e2b918b0d4c</td>\n",
       "      <td>PP017</td>\n",
       "      <td>activated CD4+ T cell</td>\n",
       "      <td>CL:0001043</td>\n",
       "      <td>activated CD4-positive, alpha-beta T cell, human</td>\n",
       "      <td>ACGCCAGAGAATTCCC</td>\n",
       "    </tr>\n",
       "    <tr>\n",
       "      <th>2</th>\n",
       "      <td>46cbd6a3-1ba4-4f57-b27d-4e2b918b0d4c</td>\n",
       "      <td>PP017</td>\n",
       "      <td>activated CD8+ T cell</td>\n",
       "      <td>CL:0001049</td>\n",
       "      <td>activated CD8-positive, alpha-beta T cell, human</td>\n",
       "      <td>CAGCTGGGTCATTAGC</td>\n",
       "    </tr>\n",
       "    <tr>\n",
       "      <th>3</th>\n",
       "      <td>46cbd6a3-1ba4-4f57-b27d-4e2b918b0d4c</td>\n",
       "      <td>PP017</td>\n",
       "      <td>activated CD4+ T cell</td>\n",
       "      <td>CL:0001043</td>\n",
       "      <td>activated CD4-positive, alpha-beta T cell, human</td>\n",
       "      <td>GGGTCTGTCAGCCTAA</td>\n",
       "    </tr>\n",
       "    <tr>\n",
       "      <th>4</th>\n",
       "      <td>46cbd6a3-1ba4-4f57-b27d-4e2b918b0d4c</td>\n",
       "      <td>PP017</td>\n",
       "      <td>activated CD8+ T cell</td>\n",
       "      <td>CL:0001049</td>\n",
       "      <td>activated CD8-positive, alpha-beta T cell, human</td>\n",
       "      <td>CATATTCTCGCTTAGA</td>\n",
       "    </tr>\n",
       "  </tbody>\n",
       "</table>\n",
       "</div>"
      ],
      "text/plain": [
       "  specimen_from_organism.provenance.document_id  \\\n",
       "0          46cbd6a3-1ba4-4f57-b27d-4e2b918b0d4c   \n",
       "1          46cbd6a3-1ba4-4f57-b27d-4e2b918b0d4c   \n",
       "2          46cbd6a3-1ba4-4f57-b27d-4e2b918b0d4c   \n",
       "3          46cbd6a3-1ba4-4f57-b27d-4e2b918b0d4c   \n",
       "4          46cbd6a3-1ba4-4f57-b27d-4e2b918b0d4c   \n",
       "\n",
       "  specimen_from_organism.biomaterial_core.biomaterial_id  \\\n",
       "0                                              PP017       \n",
       "1                                              PP017       \n",
       "2                                              PP017       \n",
       "3                                              PP017       \n",
       "4                                              PP017       \n",
       "\n",
       "  annotated_cell_identity.text annotated_cell_identity.ontology  \\\n",
       "0        activated CD4+ T cell                       CL:0001043   \n",
       "1        activated CD4+ T cell                       CL:0001043   \n",
       "2        activated CD8+ T cell                       CL:0001049   \n",
       "3        activated CD4+ T cell                       CL:0001043   \n",
       "4        activated CD8+ T cell                       CL:0001049   \n",
       "\n",
       "             annotated_cell_identity.ontology_label           barcode  \n",
       "0  activated CD4-positive, alpha-beta T cell, human  GTCATTTAGTGTGAAT  \n",
       "1  activated CD4-positive, alpha-beta T cell, human  ACGCCAGAGAATTCCC  \n",
       "2  activated CD8-positive, alpha-beta T cell, human  CAGCTGGGTCATTAGC  \n",
       "3  activated CD4-positive, alpha-beta T cell, human  GGGTCTGTCAGCCTAA  \n",
       "4  activated CD8-positive, alpha-beta T cell, human  CATATTCTCGCTTAGA  "
      ]
     },
     "execution_count": 9,
     "metadata": {},
     "output_type": "execute_result"
    }
   ],
   "source": [
    "# Look at the columns\n",
    "# Determine which column matches the metadata manifest. This will vary across different contributor matrices.\n",
    "# In this example contributor matrix, the column `specimen_from_organism.provenance.document_id` matches the metadata manifest\n",
    "contributor.head()"
   ]
  },
  {
   "cell_type": "code",
   "execution_count": 12,
   "metadata": {},
   "outputs": [
    {
     "data": {
      "text/plain": [
       "(17625, 6)"
      ]
     },
     "execution_count": 12,
     "metadata": {},
     "output_type": "execute_result"
    }
   ],
   "source": [
    "# Number of unique cell barcodes from the contributor matrix\n",
    "contributor.shape"
   ]
  },
  {
   "cell_type": "code",
   "execution_count": 10,
   "metadata": {},
   "outputs": [
    {
     "data": {
      "text/plain": [
       "source_id                                                           1\n",
       "source_spec                                                         1\n",
       "bundle_uuid                                                        37\n",
       "bundle_version                                                     20\n",
       "file_document_id                                                   73\n",
       "file_type                                                           3\n",
       "file_name                                                          73\n",
       "file_format                                                         5\n",
       "read_index                                                          2\n",
       "file_size                                                          73\n",
       "file_uuid                                                          73\n",
       "file_version                                                       68\n",
       "file_crc32c                                                        73\n",
       "file_sha256                                                        73\n",
       "file_content_type                                                   5\n",
       "file_drs_uri                                                       73\n",
       "file_url                                                           73\n",
       "cell_suspension.provenance.document_id                             20\n",
       "cell_suspension.biomaterial_core.biomaterial_id                    20\n",
       "cell_suspension.estimated_cell_count                                0\n",
       "cell_suspension.selected_cell_type                                  1\n",
       "sequencing_process.provenance.document_id                          20\n",
       "sequencing_protocol.instrument_manufacturer_model                   1\n",
       "sequencing_protocol.paired_end                                      1\n",
       "library_preparation_protocol.library_construction_approach          1\n",
       "library_preparation_protocol.nucleic_acid_source                    1\n",
       "project.provenance.document_id                                      1\n",
       "project.contributors.institution                                    1\n",
       "project.contributors.laboratory                                     1\n",
       "project.project_core.project_short_name                             1\n",
       "project.project_core.project_title                                  1\n",
       "specimen_from_organism.provenance.document_id                      20\n",
       "specimen_from_organism.diseases                                     0\n",
       "specimen_from_organism.organ                                        5\n",
       "specimen_from_organism.organ_part                                   4\n",
       "specimen_from_organism.preservation_storage.preservation_method     1\n",
       "donor_organism.sex                                                  1\n",
       "donor_organism.biomaterial_core.biomaterial_id                     11\n",
       "donor_organism.provenance.document_id                               6\n",
       "donor_organism.genus_species                                        1\n",
       "donor_organism.development_stage                                    2\n",
       "donor_organism.diseases                                             2\n",
       "donor_organism.organism_age                                         4\n",
       "cell_line.provenance.document_id                                    0\n",
       "cell_line.biomaterial_core.biomaterial_id                           0\n",
       "organoid.provenance.document_id                                     0\n",
       "organoid.biomaterial_core.biomaterial_id                            0\n",
       "organoid.model_organ                                                0\n",
       "organoid.model_organ_part                                           0\n",
       "_entity_type                                                        1\n",
       "sample.provenance.document_id                                      20\n",
       "sample.biomaterial_core.biomaterial_id                             20\n",
       "sequencing_input.provenance.document_id                            20\n",
       "sequencing_input.biomaterial_core.biomaterial_id                   20\n",
       "sequencing_input_type                                               1\n",
       "dtype: int64"
      ]
     },
     "execution_count": 10,
     "metadata": {},
     "output_type": "execute_result"
    }
   ],
   "source": [
    "# Look at number of unqiue elements in each dataframe\n",
    "# Will see 73 unique files for this matrix; each file can contain multiple cells\n",
    "metadata.nunique()"
   ]
  },
  {
   "cell_type": "code",
   "execution_count": 13,
   "metadata": {},
   "outputs": [
    {
     "data": {
      "text/plain": [
       "specimen_from_organism.provenance.document_id                 4\n",
       "specimen_from_organism.biomaterial_core.biomaterial_id        4\n",
       "annotated_cell_identity.text                                  4\n",
       "annotated_cell_identity.ontology                              4\n",
       "annotated_cell_identity.ontology_label                        4\n",
       "barcode                                                   17483\n",
       "dtype: int64"
      ]
     },
     "execution_count": 13,
     "metadata": {},
     "output_type": "execute_result"
    }
   ],
   "source": [
    "# 17,483 unique bcarcodes, which matches the contributor.shape (# of rows in the matrix)\n",
    "contributor.nunique()"
   ]
  },
  {
   "cell_type": "code",
   "execution_count": 14,
   "metadata": {},
   "outputs": [],
   "source": [
    "# Open the project Loom file\n",
    "ds=loompy.connect(\"/Users/ekiernan/Desktop/Matrix_doc_improvements/t-cell-activation-human-blood-10XV2.loom\")"
   ]
  },
  {
   "cell_type": "code",
   "execution_count": 15,
   "metadata": {},
   "outputs": [
    {
     "data": {
      "text/plain": [
       "array(['CACATTTAGTGGAGAA', 'GGGTCTGCAGATAATG', 'TGACGGCTCCGTTGCT', ...,\n",
       "       'TGCCCATAGCGAGAAA', 'CTTACCGTCCAGAAGG', 'TGTGGTACAGTATGCT'],\n",
       "      dtype=object)"
      ]
     },
     "execution_count": 15,
     "metadata": {},
     "output_type": "execute_result"
    }
   ],
   "source": [
    "# Look at the non-unique barcodes in the CellID column\n",
    "ds.ca[\"CellID\"]"
   ]
  },
  {
   "cell_type": "code",
   "execution_count": 16,
   "metadata": {},
   "outputs": [
    {
     "data": {
      "text/plain": [
       "array(['219e1b92-9749-490c-b08a-f375ad4c9884',\n",
       "       '219e1b92-9749-490c-b08a-f375ad4c9884',\n",
       "       '219e1b92-9749-490c-b08a-f375ad4c9884', ...,\n",
       "       'bfbf2ca6-13e5-4fe0-bb03-a592e1e72648',\n",
       "       'bfbf2ca6-13e5-4fe0-bb03-a592e1e72648',\n",
       "       'bfbf2ca6-13e5-4fe0-bb03-a592e1e72648'], dtype=object)"
      ]
     },
     "execution_count": 16,
     "metadata": {},
     "output_type": "execute_result"
    }
   ],
   "source": [
    "# Look at the Loom input_id which represents each individual donor\n",
    "ds.ca[\"input_id\"]"
   ]
  },
  {
   "cell_type": "code",
   "execution_count": 17,
   "metadata": {},
   "outputs": [
    {
     "data": {
      "text/plain": [
       "(58347, 23127)"
      ]
     },
     "execution_count": 17,
     "metadata": {},
     "output_type": "execute_result"
    }
   ],
   "source": [
    "# #cells = 23,127 minimally filtered cells and 58,347 genes\n",
    "# Because this contains data from multiple library preparations, cell barcodes in the CellID column can be repeated\n",
    "ds.shape"
   ]
  },
  {
   "cell_type": "code",
   "execution_count": 18,
   "metadata": {},
   "outputs": [],
   "source": [
    "import numpy as np"
   ]
  },
  {
   "cell_type": "code",
   "execution_count": 19,
   "metadata": {},
   "outputs": [
    {
     "data": {
      "text/plain": [
       "array(['219e1b92-9749-490c-b08a-f375ad4c9884',\n",
       "       '24ae6c0b-d147-4051-a85b-c6204531b9d7',\n",
       "       '3ddf143f-36bd-49c5-9bbf-f5b71e384063',\n",
       "       'bfbf2ca6-13e5-4fe0-bb03-a592e1e72648'], dtype=object)"
      ]
     },
     "execution_count": 19,
     "metadata": {},
     "output_type": "execute_result"
    }
   ],
   "source": [
    "# check for unique input ids; the number should match donor number in the contributor matrix\n",
    "# In this case there are 4 unique donors for blood\n",
    "np.unique(ds.ca[\"input_id\"])"
   ]
  },
  {
   "cell_type": "code",
   "execution_count": 20,
   "metadata": {},
   "outputs": [],
   "source": [
    "# make pandas dataframe for mapping loom to metadata TSV\n",
    "# the input_id in the loom matches the sequencing_process.provenance.document_id in the manifest\n",
    "# CellID is the non-unique barcode\n",
    "loom_to_metadata= pandas.DataFrame({\"sequencing_process.provenance.document_id\":ds.ca[\"input_id\"], \"barcode\":ds.ca[\"CellID\"]})"
   ]
  },
  {
   "cell_type": "code",
   "execution_count": 21,
   "metadata": {},
   "outputs": [
    {
     "data": {
      "text/html": [
       "<div>\n",
       "<style scoped>\n",
       "    .dataframe tbody tr th:only-of-type {\n",
       "        vertical-align: middle;\n",
       "    }\n",
       "\n",
       "    .dataframe tbody tr th {\n",
       "        vertical-align: top;\n",
       "    }\n",
       "\n",
       "    .dataframe thead th {\n",
       "        text-align: right;\n",
       "    }\n",
       "</style>\n",
       "<table border=\"1\" class=\"dataframe\">\n",
       "  <thead>\n",
       "    <tr style=\"text-align: right;\">\n",
       "      <th></th>\n",
       "      <th>sequencing_process.provenance.document_id</th>\n",
       "      <th>barcode</th>\n",
       "    </tr>\n",
       "  </thead>\n",
       "  <tbody>\n",
       "    <tr>\n",
       "      <th>0</th>\n",
       "      <td>219e1b92-9749-490c-b08a-f375ad4c9884</td>\n",
       "      <td>CACATTTAGTGGAGAA</td>\n",
       "    </tr>\n",
       "    <tr>\n",
       "      <th>1</th>\n",
       "      <td>219e1b92-9749-490c-b08a-f375ad4c9884</td>\n",
       "      <td>GGGTCTGCAGATAATG</td>\n",
       "    </tr>\n",
       "    <tr>\n",
       "      <th>2</th>\n",
       "      <td>219e1b92-9749-490c-b08a-f375ad4c9884</td>\n",
       "      <td>TGACGGCTCCGTTGCT</td>\n",
       "    </tr>\n",
       "    <tr>\n",
       "      <th>3</th>\n",
       "      <td>219e1b92-9749-490c-b08a-f375ad4c9884</td>\n",
       "      <td>GTCTTCGCATAGACTC</td>\n",
       "    </tr>\n",
       "    <tr>\n",
       "      <th>4</th>\n",
       "      <td>219e1b92-9749-490c-b08a-f375ad4c9884</td>\n",
       "      <td>CTGTGCTGTTCAGCGC</td>\n",
       "    </tr>\n",
       "  </tbody>\n",
       "</table>\n",
       "</div>"
      ],
      "text/plain": [
       "  sequencing_process.provenance.document_id           barcode\n",
       "0      219e1b92-9749-490c-b08a-f375ad4c9884  CACATTTAGTGGAGAA\n",
       "1      219e1b92-9749-490c-b08a-f375ad4c9884  GGGTCTGCAGATAATG\n",
       "2      219e1b92-9749-490c-b08a-f375ad4c9884  TGACGGCTCCGTTGCT\n",
       "3      219e1b92-9749-490c-b08a-f375ad4c9884  GTCTTCGCATAGACTC\n",
       "4      219e1b92-9749-490c-b08a-f375ad4c9884  CTGTGCTGTTCAGCGC"
      ]
     },
     "execution_count": 21,
     "metadata": {},
     "output_type": "execute_result"
    }
   ],
   "source": [
    "loom_to_metadata.head()"
   ]
  },
  {
   "cell_type": "code",
   "execution_count": 26,
   "metadata": {},
   "outputs": [
    {
     "data": {
      "text/plain": [
       "(23127, 2)"
      ]
     },
     "execution_count": 26,
     "metadata": {},
     "output_type": "execute_result"
    }
   ],
   "source": [
    "# number of cell barcodes processed by our pipeline (i.e. number of cells)\n",
    "loom_to_metadata.shape"
   ]
  },
  {
   "cell_type": "code",
   "execution_count": 32,
   "metadata": {},
   "outputs": [
    {
     "data": {
      "text/plain": [
       "sequencing_process.provenance.document_id        4\n",
       "barcode                                      22717\n",
       "dtype: int64"
      ]
     },
     "execution_count": 32,
     "metadata": {},
     "output_type": "execute_result"
    }
   ],
   "source": [
    "loom_to_metadata.nunique()"
   ]
  },
  {
   "cell_type": "code",
   "execution_count": null,
   "metadata": {},
   "outputs": [],
   "source": []
  },
  {
   "cell_type": "code",
   "execution_count": 50,
   "metadata": {},
   "outputs": [],
   "source": [
    "# map the Loom + metadata dataframe to the manifest metadata that's included in the contributor data frame\n",
    "# in this case, the manifest metadata matching the contributor matrix is the specimen_from_organism.provenance.document_id\n",
    "metadata_to_contributor = loom_to_metadata.merge(metadata[[\"sequencing_process.provenance.document_id\", \"specimen_from_organism.provenance.document_id\"]], on=\"sequencing_process.provenance.document_id\", how=\"outer\")\n"
   ]
  },
  {
   "cell_type": "code",
   "execution_count": 51,
   "metadata": {},
   "outputs": [
    {
     "data": {
      "text/html": [
       "<div>\n",
       "<style scoped>\n",
       "    .dataframe tbody tr th:only-of-type {\n",
       "        vertical-align: middle;\n",
       "    }\n",
       "\n",
       "    .dataframe tbody tr th {\n",
       "        vertical-align: top;\n",
       "    }\n",
       "\n",
       "    .dataframe thead th {\n",
       "        text-align: right;\n",
       "    }\n",
       "</style>\n",
       "<table border=\"1\" class=\"dataframe\">\n",
       "  <thead>\n",
       "    <tr style=\"text-align: right;\">\n",
       "      <th></th>\n",
       "      <th>sequencing_process.provenance.document_id</th>\n",
       "      <th>barcode</th>\n",
       "      <th>specimen_from_organism.provenance.document_id</th>\n",
       "    </tr>\n",
       "  </thead>\n",
       "  <tbody>\n",
       "    <tr>\n",
       "      <th>0</th>\n",
       "      <td>219e1b92-9749-490c-b08a-f375ad4c9884</td>\n",
       "      <td>CACATTTAGTGGAGAA</td>\n",
       "      <td>46cbd6a3-1ba4-4f57-b27d-4e2b918b0d4c</td>\n",
       "    </tr>\n",
       "    <tr>\n",
       "      <th>1</th>\n",
       "      <td>219e1b92-9749-490c-b08a-f375ad4c9884</td>\n",
       "      <td>CACATTTAGTGGAGAA</td>\n",
       "      <td>46cbd6a3-1ba4-4f57-b27d-4e2b918b0d4c</td>\n",
       "    </tr>\n",
       "    <tr>\n",
       "      <th>2</th>\n",
       "      <td>219e1b92-9749-490c-b08a-f375ad4c9884</td>\n",
       "      <td>CACATTTAGTGGAGAA</td>\n",
       "      <td>46cbd6a3-1ba4-4f57-b27d-4e2b918b0d4c</td>\n",
       "    </tr>\n",
       "    <tr>\n",
       "      <th>3</th>\n",
       "      <td>219e1b92-9749-490c-b08a-f375ad4c9884</td>\n",
       "      <td>CACATTTAGTGGAGAA</td>\n",
       "      <td>46cbd6a3-1ba4-4f57-b27d-4e2b918b0d4c</td>\n",
       "    </tr>\n",
       "    <tr>\n",
       "      <th>4</th>\n",
       "      <td>219e1b92-9749-490c-b08a-f375ad4c9884</td>\n",
       "      <td>GGGTCTGCAGATAATG</td>\n",
       "      <td>46cbd6a3-1ba4-4f57-b27d-4e2b918b0d4c</td>\n",
       "    </tr>\n",
       "  </tbody>\n",
       "</table>\n",
       "</div>"
      ],
      "text/plain": [
       "  sequencing_process.provenance.document_id           barcode  \\\n",
       "0      219e1b92-9749-490c-b08a-f375ad4c9884  CACATTTAGTGGAGAA   \n",
       "1      219e1b92-9749-490c-b08a-f375ad4c9884  CACATTTAGTGGAGAA   \n",
       "2      219e1b92-9749-490c-b08a-f375ad4c9884  CACATTTAGTGGAGAA   \n",
       "3      219e1b92-9749-490c-b08a-f375ad4c9884  CACATTTAGTGGAGAA   \n",
       "4      219e1b92-9749-490c-b08a-f375ad4c9884  GGGTCTGCAGATAATG   \n",
       "\n",
       "  specimen_from_organism.provenance.document_id  \n",
       "0          46cbd6a3-1ba4-4f57-b27d-4e2b918b0d4c  \n",
       "1          46cbd6a3-1ba4-4f57-b27d-4e2b918b0d4c  \n",
       "2          46cbd6a3-1ba4-4f57-b27d-4e2b918b0d4c  \n",
       "3          46cbd6a3-1ba4-4f57-b27d-4e2b918b0d4c  \n",
       "4          46cbd6a3-1ba4-4f57-b27d-4e2b918b0d4c  "
      ]
     },
     "execution_count": 51,
     "metadata": {},
     "output_type": "execute_result"
    }
   ],
   "source": [
    "metadata_to_contributor.head()"
   ]
  },
  {
   "cell_type": "code",
   "execution_count": 52,
   "metadata": {},
   "outputs": [
    {
     "data": {
      "text/plain": [
       "(92565, 3)"
      ]
     },
     "execution_count": 52,
     "metadata": {},
     "output_type": "execute_result"
    }
   ],
   "source": [
    "\n",
    "metadata_to_contributor.shape"
   ]
  },
  {
   "cell_type": "code",
   "execution_count": 33,
   "metadata": {},
   "outputs": [
    {
     "data": {
      "text/plain": [
       "sequencing_process.provenance.document_id            4\n",
       "barcode                                          22717\n",
       "specimen_from_organism.provenance.document_id        4\n",
       "dtype: int64"
      ]
     },
     "execution_count": 33,
     "metadata": {},
     "output_type": "execute_result"
    }
   ],
   "source": [
    "metadata_to_contributor.nunique()"
   ]
  },
  {
   "cell_type": "code",
   "execution_count": 65,
   "metadata": {},
   "outputs": [],
   "source": [
    "# Final dataframe- map the shared metadata back to the contributor matrix\n",
    "merge_df=contributor.merge(metadata_to_contributor, on=[\"specimen_from_organism.provenance.document_id\",\"barcode\"], how=\"outer\")"
   ]
  },
  {
   "cell_type": "code",
   "execution_count": 66,
   "metadata": {},
   "outputs": [
    {
     "data": {
      "text/plain": [
       "(92565, 7)"
      ]
     },
     "execution_count": 66,
     "metadata": {},
     "output_type": "execute_result"
    }
   ],
   "source": [
    "merge_df.shape"
   ]
  },
  {
   "cell_type": "code",
   "execution_count": 67,
   "metadata": {},
   "outputs": [
    {
     "data": {
      "text/plain": [
       "specimen_from_organism.provenance.document_id                20\n",
       "specimen_from_organism.biomaterial_core.biomaterial_id        4\n",
       "annotated_cell_identity.text                                  4\n",
       "annotated_cell_identity.ontology                              4\n",
       "annotated_cell_identity.ontology_label                        4\n",
       "barcode                                                   22717\n",
       "sequencing_process.provenance.document_id                    20\n",
       "dtype: int64"
      ]
     },
     "execution_count": 67,
     "metadata": {},
     "output_type": "execute_result"
    }
   ],
   "source": [
    "merge_df.nunique()"
   ]
  },
  {
   "cell_type": "code",
   "execution_count": 68,
   "metadata": {},
   "outputs": [
    {
     "data": {
      "text/html": [
       "<div>\n",
       "<style scoped>\n",
       "    .dataframe tbody tr th:only-of-type {\n",
       "        vertical-align: middle;\n",
       "    }\n",
       "\n",
       "    .dataframe tbody tr th {\n",
       "        vertical-align: top;\n",
       "    }\n",
       "\n",
       "    .dataframe thead th {\n",
       "        text-align: right;\n",
       "    }\n",
       "</style>\n",
       "<table border=\"1\" class=\"dataframe\">\n",
       "  <thead>\n",
       "    <tr style=\"text-align: right;\">\n",
       "      <th></th>\n",
       "      <th>specimen_from_organism.provenance.document_id</th>\n",
       "      <th>specimen_from_organism.biomaterial_core.biomaterial_id</th>\n",
       "      <th>annotated_cell_identity.text</th>\n",
       "      <th>annotated_cell_identity.ontology</th>\n",
       "      <th>annotated_cell_identity.ontology_label</th>\n",
       "      <th>barcode</th>\n",
       "      <th>sequencing_process.provenance.document_id</th>\n",
       "    </tr>\n",
       "  </thead>\n",
       "  <tbody>\n",
       "    <tr>\n",
       "      <th>0</th>\n",
       "      <td>46cbd6a3-1ba4-4f57-b27d-4e2b918b0d4c</td>\n",
       "      <td>PP017</td>\n",
       "      <td>activated CD4+ T cell</td>\n",
       "      <td>CL:0001043</td>\n",
       "      <td>activated CD4-positive, alpha-beta T cell, human</td>\n",
       "      <td>GTCATTTAGTGTGAAT</td>\n",
       "      <td>219e1b92-9749-490c-b08a-f375ad4c9884</td>\n",
       "    </tr>\n",
       "    <tr>\n",
       "      <th>1</th>\n",
       "      <td>46cbd6a3-1ba4-4f57-b27d-4e2b918b0d4c</td>\n",
       "      <td>PP017</td>\n",
       "      <td>activated CD4+ T cell</td>\n",
       "      <td>CL:0001043</td>\n",
       "      <td>activated CD4-positive, alpha-beta T cell, human</td>\n",
       "      <td>GTCATTTAGTGTGAAT</td>\n",
       "      <td>219e1b92-9749-490c-b08a-f375ad4c9884</td>\n",
       "    </tr>\n",
       "    <tr>\n",
       "      <th>2</th>\n",
       "      <td>46cbd6a3-1ba4-4f57-b27d-4e2b918b0d4c</td>\n",
       "      <td>PP017</td>\n",
       "      <td>activated CD4+ T cell</td>\n",
       "      <td>CL:0001043</td>\n",
       "      <td>activated CD4-positive, alpha-beta T cell, human</td>\n",
       "      <td>GTCATTTAGTGTGAAT</td>\n",
       "      <td>219e1b92-9749-490c-b08a-f375ad4c9884</td>\n",
       "    </tr>\n",
       "    <tr>\n",
       "      <th>3</th>\n",
       "      <td>46cbd6a3-1ba4-4f57-b27d-4e2b918b0d4c</td>\n",
       "      <td>PP017</td>\n",
       "      <td>activated CD4+ T cell</td>\n",
       "      <td>CL:0001043</td>\n",
       "      <td>activated CD4-positive, alpha-beta T cell, human</td>\n",
       "      <td>GTCATTTAGTGTGAAT</td>\n",
       "      <td>219e1b92-9749-490c-b08a-f375ad4c9884</td>\n",
       "    </tr>\n",
       "    <tr>\n",
       "      <th>4</th>\n",
       "      <td>46cbd6a3-1ba4-4f57-b27d-4e2b918b0d4c</td>\n",
       "      <td>PP017</td>\n",
       "      <td>activated CD4+ T cell</td>\n",
       "      <td>CL:0001043</td>\n",
       "      <td>activated CD4-positive, alpha-beta T cell, human</td>\n",
       "      <td>ACGCCAGAGAATTCCC</td>\n",
       "      <td>219e1b92-9749-490c-b08a-f375ad4c9884</td>\n",
       "    </tr>\n",
       "  </tbody>\n",
       "</table>\n",
       "</div>"
      ],
      "text/plain": [
       "  specimen_from_organism.provenance.document_id  \\\n",
       "0          46cbd6a3-1ba4-4f57-b27d-4e2b918b0d4c   \n",
       "1          46cbd6a3-1ba4-4f57-b27d-4e2b918b0d4c   \n",
       "2          46cbd6a3-1ba4-4f57-b27d-4e2b918b0d4c   \n",
       "3          46cbd6a3-1ba4-4f57-b27d-4e2b918b0d4c   \n",
       "4          46cbd6a3-1ba4-4f57-b27d-4e2b918b0d4c   \n",
       "\n",
       "  specimen_from_organism.biomaterial_core.biomaterial_id  \\\n",
       "0                                              PP017       \n",
       "1                                              PP017       \n",
       "2                                              PP017       \n",
       "3                                              PP017       \n",
       "4                                              PP017       \n",
       "\n",
       "  annotated_cell_identity.text annotated_cell_identity.ontology  \\\n",
       "0        activated CD4+ T cell                       CL:0001043   \n",
       "1        activated CD4+ T cell                       CL:0001043   \n",
       "2        activated CD4+ T cell                       CL:0001043   \n",
       "3        activated CD4+ T cell                       CL:0001043   \n",
       "4        activated CD4+ T cell                       CL:0001043   \n",
       "\n",
       "             annotated_cell_identity.ontology_label           barcode  \\\n",
       "0  activated CD4-positive, alpha-beta T cell, human  GTCATTTAGTGTGAAT   \n",
       "1  activated CD4-positive, alpha-beta T cell, human  GTCATTTAGTGTGAAT   \n",
       "2  activated CD4-positive, alpha-beta T cell, human  GTCATTTAGTGTGAAT   \n",
       "3  activated CD4-positive, alpha-beta T cell, human  GTCATTTAGTGTGAAT   \n",
       "4  activated CD4-positive, alpha-beta T cell, human  ACGCCAGAGAATTCCC   \n",
       "\n",
       "  sequencing_process.provenance.document_id  \n",
       "0      219e1b92-9749-490c-b08a-f375ad4c9884  \n",
       "1      219e1b92-9749-490c-b08a-f375ad4c9884  \n",
       "2      219e1b92-9749-490c-b08a-f375ad4c9884  \n",
       "3      219e1b92-9749-490c-b08a-f375ad4c9884  \n",
       "4      219e1b92-9749-490c-b08a-f375ad4c9884  "
      ]
     },
     "execution_count": 68,
     "metadata": {},
     "output_type": "execute_result"
    }
   ],
   "source": [
    "merge_df.head()"
   ]
  },
  {
   "cell_type": "code",
   "execution_count": null,
   "metadata": {},
   "outputs": [],
   "source": []
  },
  {
   "cell_type": "code",
   "execution_count": 69,
   "metadata": {},
   "outputs": [
    {
     "data": {
      "text/plain": [
       "Index(['specimen_from_organism.provenance.document_id',\n",
       "       'specimen_from_organism.biomaterial_core.biomaterial_id',\n",
       "       'annotated_cell_identity.text', 'annotated_cell_identity.ontology',\n",
       "       'annotated_cell_identity.ontology_label', 'barcode',\n",
       "       'sequencing_process.provenance.document_id'],\n",
       "      dtype='object')"
      ]
     },
     "execution_count": 69,
     "metadata": {},
     "output_type": "execute_result"
    }
   ],
   "source": [
    "# Let's change sequencing_process.provenance.document_id to the name \"input_id\" and barcode to CellID. This will make it easier to go back to the Loom\n",
    "merge_df.columns"
   ]
  },
  {
   "cell_type": "code",
   "execution_count": 70,
   "metadata": {},
   "outputs": [
    {
     "data": {
      "text/html": [
       "<div>\n",
       "<style scoped>\n",
       "    .dataframe tbody tr th:only-of-type {\n",
       "        vertical-align: middle;\n",
       "    }\n",
       "\n",
       "    .dataframe tbody tr th {\n",
       "        vertical-align: top;\n",
       "    }\n",
       "\n",
       "    .dataframe thead th {\n",
       "        text-align: right;\n",
       "    }\n",
       "</style>\n",
       "<table border=\"1\" class=\"dataframe\">\n",
       "  <thead>\n",
       "    <tr style=\"text-align: right;\">\n",
       "      <th></th>\n",
       "      <th>specimen_from_organism.provenance.document_id</th>\n",
       "      <th>specimen_from_organism.biomaterial_core.biomaterial_id</th>\n",
       "      <th>annotated_cell_identity.text</th>\n",
       "      <th>annotated_cell_identity.ontology</th>\n",
       "      <th>annotated_cell_identity.ontology_label</th>\n",
       "      <th>CellID</th>\n",
       "      <th>input_id</th>\n",
       "    </tr>\n",
       "  </thead>\n",
       "  <tbody>\n",
       "    <tr>\n",
       "      <th>0</th>\n",
       "      <td>46cbd6a3-1ba4-4f57-b27d-4e2b918b0d4c</td>\n",
       "      <td>PP017</td>\n",
       "      <td>activated CD4+ T cell</td>\n",
       "      <td>CL:0001043</td>\n",
       "      <td>activated CD4-positive, alpha-beta T cell, human</td>\n",
       "      <td>GTCATTTAGTGTGAAT</td>\n",
       "      <td>219e1b92-9749-490c-b08a-f375ad4c9884</td>\n",
       "    </tr>\n",
       "    <tr>\n",
       "      <th>1</th>\n",
       "      <td>46cbd6a3-1ba4-4f57-b27d-4e2b918b0d4c</td>\n",
       "      <td>PP017</td>\n",
       "      <td>activated CD4+ T cell</td>\n",
       "      <td>CL:0001043</td>\n",
       "      <td>activated CD4-positive, alpha-beta T cell, human</td>\n",
       "      <td>GTCATTTAGTGTGAAT</td>\n",
       "      <td>219e1b92-9749-490c-b08a-f375ad4c9884</td>\n",
       "    </tr>\n",
       "    <tr>\n",
       "      <th>2</th>\n",
       "      <td>46cbd6a3-1ba4-4f57-b27d-4e2b918b0d4c</td>\n",
       "      <td>PP017</td>\n",
       "      <td>activated CD4+ T cell</td>\n",
       "      <td>CL:0001043</td>\n",
       "      <td>activated CD4-positive, alpha-beta T cell, human</td>\n",
       "      <td>GTCATTTAGTGTGAAT</td>\n",
       "      <td>219e1b92-9749-490c-b08a-f375ad4c9884</td>\n",
       "    </tr>\n",
       "    <tr>\n",
       "      <th>3</th>\n",
       "      <td>46cbd6a3-1ba4-4f57-b27d-4e2b918b0d4c</td>\n",
       "      <td>PP017</td>\n",
       "      <td>activated CD4+ T cell</td>\n",
       "      <td>CL:0001043</td>\n",
       "      <td>activated CD4-positive, alpha-beta T cell, human</td>\n",
       "      <td>GTCATTTAGTGTGAAT</td>\n",
       "      <td>219e1b92-9749-490c-b08a-f375ad4c9884</td>\n",
       "    </tr>\n",
       "    <tr>\n",
       "      <th>4</th>\n",
       "      <td>46cbd6a3-1ba4-4f57-b27d-4e2b918b0d4c</td>\n",
       "      <td>PP017</td>\n",
       "      <td>activated CD4+ T cell</td>\n",
       "      <td>CL:0001043</td>\n",
       "      <td>activated CD4-positive, alpha-beta T cell, human</td>\n",
       "      <td>ACGCCAGAGAATTCCC</td>\n",
       "      <td>219e1b92-9749-490c-b08a-f375ad4c9884</td>\n",
       "    </tr>\n",
       "  </tbody>\n",
       "</table>\n",
       "</div>"
      ],
      "text/plain": [
       "  specimen_from_organism.provenance.document_id  \\\n",
       "0          46cbd6a3-1ba4-4f57-b27d-4e2b918b0d4c   \n",
       "1          46cbd6a3-1ba4-4f57-b27d-4e2b918b0d4c   \n",
       "2          46cbd6a3-1ba4-4f57-b27d-4e2b918b0d4c   \n",
       "3          46cbd6a3-1ba4-4f57-b27d-4e2b918b0d4c   \n",
       "4          46cbd6a3-1ba4-4f57-b27d-4e2b918b0d4c   \n",
       "\n",
       "  specimen_from_organism.biomaterial_core.biomaterial_id  \\\n",
       "0                                              PP017       \n",
       "1                                              PP017       \n",
       "2                                              PP017       \n",
       "3                                              PP017       \n",
       "4                                              PP017       \n",
       "\n",
       "  annotated_cell_identity.text annotated_cell_identity.ontology  \\\n",
       "0        activated CD4+ T cell                       CL:0001043   \n",
       "1        activated CD4+ T cell                       CL:0001043   \n",
       "2        activated CD4+ T cell                       CL:0001043   \n",
       "3        activated CD4+ T cell                       CL:0001043   \n",
       "4        activated CD4+ T cell                       CL:0001043   \n",
       "\n",
       "             annotated_cell_identity.ontology_label            CellID  \\\n",
       "0  activated CD4-positive, alpha-beta T cell, human  GTCATTTAGTGTGAAT   \n",
       "1  activated CD4-positive, alpha-beta T cell, human  GTCATTTAGTGTGAAT   \n",
       "2  activated CD4-positive, alpha-beta T cell, human  GTCATTTAGTGTGAAT   \n",
       "3  activated CD4-positive, alpha-beta T cell, human  GTCATTTAGTGTGAAT   \n",
       "4  activated CD4-positive, alpha-beta T cell, human  ACGCCAGAGAATTCCC   \n",
       "\n",
       "                               input_id  \n",
       "0  219e1b92-9749-490c-b08a-f375ad4c9884  \n",
       "1  219e1b92-9749-490c-b08a-f375ad4c9884  \n",
       "2  219e1b92-9749-490c-b08a-f375ad4c9884  \n",
       "3  219e1b92-9749-490c-b08a-f375ad4c9884  \n",
       "4  219e1b92-9749-490c-b08a-f375ad4c9884  "
      ]
     },
     "execution_count": 70,
     "metadata": {},
     "output_type": "execute_result"
    }
   ],
   "source": [
    "merge_df.columns=['specimen_from_organism.provenance.document_id',\n",
    "       'specimen_from_organism.biomaterial_core.biomaterial_id',\n",
    "       'annotated_cell_identity.text', 'annotated_cell_identity.ontology',\n",
    "       'annotated_cell_identity.ontology_label', 'CellID',\n",
    "       'input_id']\n",
    "merge_df.head()"
   ]
  },
  {
   "cell_type": "code",
   "execution_count": 71,
   "metadata": {},
   "outputs": [],
   "source": [
    "# Drop duplicates\n",
    "# merge_df.drop_duplicates(inplace=True)\n",
    "# Remove NAs\n",
    "# merge_df.dropna(inplace=True)"
   ]
  },
  {
   "cell_type": "code",
   "execution_count": 72,
   "metadata": {},
   "outputs": [
    {
     "data": {
      "text/plain": [
       "(92565, 7)"
      ]
     },
     "execution_count": 72,
     "metadata": {},
     "output_type": "execute_result"
    }
   ],
   "source": [
    "merge_df.shape"
   ]
  },
  {
   "cell_type": "code",
   "execution_count": 80,
   "metadata": {},
   "outputs": [
    {
     "name": "stdout",
     "output_type": "stream",
     "text": [
      "CACATTTAGTGGAGAA 219e1b92-9749-490c-b08a-f375ad4c9884\n"
     ]
    }
   ],
   "source": [
    "# Add the annotations (annotated_cell_identity.text) as a new column attribute to the Loom file\n",
    "# First copy CellID to a new column called Contributor Annotation\n",
    "ds.ca[\"Contributor_Annotation\"]=ds.ca[\"CellID\"]\n",
    "# Look up for CellID and InputID, what is th value in the \"annotated_cell_identity.text\"\n",
    "i=0\n",
    "print(ds.ca[\"CellID\"][i],ds.ca[\"input_id\"][0])\n"
   ]
  },
  {
   "cell_type": "code",
   "execution_count": 86,
   "metadata": {},
   "outputs": [
    {
     "data": {
      "text/plain": [
       "array(['activated CD8+ T cell'], dtype=object)"
      ]
     },
     "execution_count": 86,
     "metadata": {},
     "output_type": "execute_result"
    }
   ],
   "source": [
    "# Set up variables for the for loop used to add annotations to the Loom\n",
    "my_cell=ds.ca[\"CellID\"][i]\n",
    "my_input_id=ds.ca[\"input_id\"][i]\n",
    "merge_df[merge_df.CellID.isin([my_cell])&merge_df.input_id.isin([my_input_id])][\"annotated_cell_identity.text\"].unique()"
   ]
  },
  {
   "cell_type": "code",
   "execution_count": 92,
   "metadata": {},
   "outputs": [],
   "source": [
    "# Make a for loop for adding each annotation to the Loom matrix; takes a few minutes\n",
    "for i in range(len(ds.ca[\"CellID\"])):\n",
    "    my_cell=ds.ca[\"CellID\"][i]\n",
    "    my_input_id=ds.ca[\"input_id\"][i]\n",
    "    my_cell_type=merge_df[merge_df.CellID.isin([my_cell])&merge_df.input_id.isin([my_input_id])][\"annotated_cell_identity.text\"].unique()[0]\n",
    "    ds.ca[\"Contributor_Annotation\"][i]=my_cell_type"
   ]
  },
  {
   "cell_type": "code",
   "execution_count": 93,
   "metadata": {},
   "outputs": [
    {
     "name": "stdout",
     "output_type": "stream",
     "text": [
      "23126\n",
      "['activated CD8+ T cell' 'activated CD4+ T cell' 'activated CD4+ T cell'\n",
      " ... nan nan nan]\n"
     ]
    }
   ],
   "source": [
    "print(i)\n",
    "print(ds.ca[\"Contributor_Annotation\"])"
   ]
  },
  {
   "cell_type": "code",
   "execution_count": 94,
   "metadata": {},
   "outputs": [],
   "source": [
    "# Prepare the data to look at expression of just one cell that matches a specific barcode and belongs to a single library preparation of choice (input_id)\n",
    "cell=((ds.ca[\"CellID\"]==\"GTCATTTAGTGTGAAT\") & (ds.ca[\"input_id\"]==\"219e1b92-9749-490c-b08a-f375ad4c9884\"))"
   ]
  },
  {
   "cell_type": "code",
   "execution_count": 95,
   "metadata": {},
   "outputs": [
    {
     "data": {
      "text/plain": [
       "array([[0],\n",
       "       [0],\n",
       "       [0],\n",
       "       ...,\n",
       "       [0],\n",
       "       [0],\n",
       "       [0]], dtype=uint32)"
      ]
     },
     "execution_count": 95,
     "metadata": {},
     "output_type": "execute_result"
    }
   ],
   "source": [
    "# We expect that only one cell in this array will return a true value (1).\n",
    "ds[:,cell]"
   ]
  },
  {
   "cell_type": "code",
   "execution_count": 96,
   "metadata": {},
   "outputs": [
    {
     "data": {
      "text/plain": [
       "dtype('bool')"
      ]
     },
     "execution_count": 96,
     "metadata": {},
     "output_type": "execute_result"
    }
   ],
   "source": [
    "cell.dtype"
   ]
  },
  {
   "cell_type": "code",
   "execution_count": 97,
   "metadata": {},
   "outputs": [
    {
     "data": {
      "text/plain": [
       "array([0, 0, 0, ..., 0, 0, 0], dtype=uint32)"
      ]
     },
     "execution_count": 97,
     "metadata": {},
     "output_type": "execute_result"
    }
   ],
   "source": [
    "# Flatten the data\n",
    "np.ndarray.flatten(ds[:,cell])"
   ]
  },
  {
   "cell_type": "code",
   "execution_count": 98,
   "metadata": {},
   "outputs": [],
   "source": [
    "# Plot a histogram of the UMIs per gene (gene is on y-axis)\n",
    "import matplotlib.pyplot as plt"
   ]
  },
  {
   "cell_type": "code",
   "execution_count": 99,
   "metadata": {},
   "outputs": [
    {
     "data": {
      "text/plain": [
       "(array([5.8243e+04, 3.9000e+01, 3.2000e+01, 1.4000e+01, 7.0000e+00,\n",
       "        6.0000e+00, 4.0000e+00, 1.0000e+00, 0.0000e+00, 1.0000e+00]),\n",
       " array([  0. ,  56.5, 113. , 169.5, 226. , 282.5, 339. , 395.5, 452. ,\n",
       "        508.5, 565. ]),\n",
       " <a list of 10 Patch objects>)"
      ]
     },
     "execution_count": 99,
     "metadata": {},
     "output_type": "execute_result"
    },
    {
     "data": {
      "image/png": "[encoded data removed]",
      "text/plain": [
       "<Figure size 432x288 with 1 Axes>"
      ]
     },
     "metadata": {
      "needs_background": "light"
     },
     "output_type": "display_data"
    }
   ],
   "source": [
    "plt.hist(np.ndarray.flatten(ds[:,cell]))"
   ]
  },
  {
   "cell_type": "code",
   "execution_count": 100,
   "metadata": {},
   "outputs": [
    {
     "data": {
      "text/plain": [
       "(array([26., 22., 10.,  6.,  4.,  3.,  2.,  0.,  0.,  1.]),\n",
       " array([101. , 147.4, 193.8, 240.2, 286.6, 333. , 379.4, 425.8, 472.2,\n",
       "        518.6, 565. ]),\n",
       " <a list of 10 Patch objects>)"
      ]
     },
     "execution_count": 100,
     "metadata": {},
     "output_type": "execute_result"
    },
    {
     "data": {
      "image/png": "[encoded data removed]",
      "text/plain": [
       "<Figure size 432x288 with 1 Axes>"
      ]
     },
     "metadata": {
      "needs_background": "light"
     },
     "output_type": "display_data"
    }
   ],
   "source": [
    "# Let's filter expression for 100 UMIs (counts)\n",
    "barcode_expression = np.ndarray.flatten(ds[:,cell]) \n",
    "plt.hist(barcode_expression[barcode_expression>100])"
   ]
  },
  {
   "cell_type": "code",
   "execution_count": null,
   "metadata": {},
   "outputs": [],
   "source": []
  },
  {
   "cell_type": "code",
   "execution_count": null,
   "metadata": {},
   "outputs": [],
   "source": []
  }
 ],
 "metadata": {
  "kernelspec": {
   "display_name": "Python 3",
   "language": "python",
   "name": "python3"
  },
  "language_info": {
   "codemirror_mode": {
    "name": "ipython",
    "version": 3
   },
   "file_extension": ".py",
   "mimetype": "text/x-python",
   "name": "python",
   "nbconvert_exporter": "python",
   "pygments_lexer": "ipython3",
   "version": "3.7.4"
  }
 },
 "nbformat": 4,
 "nbformat_minor": 2
}
